{
  "nbformat": 4,
  "nbformat_minor": 0,
  "metadata": {
    "colab": {
      "name": "K-means clustering on breast cancer data.ipynb",
      "provenance": []
    },
    "kernelspec": {
      "name": "python3",
      "display_name": "Python 3"
    },
    "language_info": {
      "name": "python"
    }
  },
  "cells": [
    {
      "cell_type": "code",
      "metadata": {
        "id": "7tRIe2OVN0F2"
      },
      "source": [
        "import numpy as np \n",
        "import pandas as pd \n",
        "from sklearn import datasets\n",
        "from sklearn.cluster import KMeans\n",
        "import matplotlib.pyplot as plt"
      ],
      "execution_count": 30,
      "outputs": []
    },
    {
      "cell_type": "code",
      "metadata": {
        "colab": {
          "base_uri": "https://localhost:8080/"
        },
        "id": "R-W3eUEeOgy5",
        "outputId": "3de42b25-5029-4d1e-86f1-96c54d54e371"
      },
      "source": [
        "dataset=datasets.load_breast_cancer()\n",
        "dataset\n",
        "\n",
        "print(dataset.data.shape)\n",
        "print(dataset.target.shape)"
      ],
      "execution_count": 31,
      "outputs": [
        {
          "output_type": "stream",
          "name": "stdout",
          "text": [
            "(569, 30)\n",
            "(569,)\n"
          ]
        }
      ]
    },
    {
      "cell_type": "code",
      "metadata": {
        "colab": {
          "base_uri": "https://localhost:8080/"
        },
        "id": "ltroC1GEOiCE",
        "outputId": "b07acc1c-6487-4f07-9181-e74e8068c2cc"
      },
      "source": [
        "print(dataset.feature_names)"
      ],
      "execution_count": 32,
      "outputs": [
        {
          "output_type": "stream",
          "name": "stdout",
          "text": [
            "['mean radius' 'mean texture' 'mean perimeter' 'mean area'\n",
            " 'mean smoothness' 'mean compactness' 'mean concavity'\n",
            " 'mean concave points' 'mean symmetry' 'mean fractal dimension'\n",
            " 'radius error' 'texture error' 'perimeter error' 'area error'\n",
            " 'smoothness error' 'compactness error' 'concavity error'\n",
            " 'concave points error' 'symmetry error' 'fractal dimension error'\n",
            " 'worst radius' 'worst texture' 'worst perimeter' 'worst area'\n",
            " 'worst smoothness' 'worst compactness' 'worst concavity'\n",
            " 'worst concave points' 'worst symmetry' 'worst fractal dimension']\n"
          ]
        }
      ]
    },
    {
      "cell_type": "code",
      "metadata": {
        "colab": {
          "base_uri": "https://localhost:8080/"
        },
        "id": "T2B-Du7uOjdv",
        "outputId": "09ed5f87-625a-46fb-8e83-87e3747e3cad"
      },
      "source": [
        "print(dataset.target_names)"
      ],
      "execution_count": 33,
      "outputs": [
        {
          "output_type": "stream",
          "name": "stdout",
          "text": [
            "['malignant' 'benign']\n"
          ]
        }
      ]
    },
    {
      "cell_type": "code",
      "metadata": {
        "colab": {
          "base_uri": "https://localhost:8080/",
          "height": 279
        },
        "id": "nj4hrhqKOlH_",
        "outputId": "eeba993d-9494-47e6-dcac-99cc929196cb"
      },
      "source": [
        "plt.scatter(dataset.data[:, 0], dataset.target)\n",
        "plt.xlabel('Features')\n",
        "plt.ylabel('Type of cancer') # 1-malignant # 0-benign\n",
        "plt.show()"
      ],
      "execution_count": 34,
      "outputs": [
        {
          "output_type": "display_data",
          "data": {
            "image/png": "[encoded data removed]",
            "text/plain": [
              "<Figure size 432x288 with 1 Axes>"
            ]
          },
          "metadata": {
            "needs_background": "light"
          }
        }
      ]
    },
    {
      "cell_type": "code",
      "metadata": {
        "colab": {
          "base_uri": "https://localhost:8080/"
        },
        "id": "9l9WyEqPOy04",
        "outputId": "1ead9ad5-29a2-484d-ead2-05158690f0a0"
      },
      "source": [
        "kmeans = KMeans(n_clusters=10, random_state=2)\n",
        "prediction = kmeans.fit_predict(dataset.data)\n",
        "print(prediction)\n",
        "\n",
        "kmeans.cluster_centers_.shape\n",
        "print(kmeans.cluster_centers_)"
      ],
      "execution_count": 35,
      "outputs": [
        {
          "output_type": "stream",
          "name": "stdout",
          "text": [
            "[5 5 8 9 8 0 8 4 0 0 2 2 2 4 0 4 4 2 1 0 0 3 4 1 5 2 4 8 2 2 8 0 2 5 2 2 0\n",
            " 9 0 0 0 9 8 4 0 8 3 0 9 0 9 0 9 2 4 9 5 4 0 3 3 3 4 3 4 4 3 9 3 9 5 3 8 0\n",
            " 9 2 0 8 8 0 9 0 6 2 9 8 4 8 9 4 4 4 0 0 4 5 9 3 9 4 4 3 9 3 3 0 9 9 1 9 3\n",
            " 9 0 3 3 9 3 4 2 2 9 8 1 0 0 0 4 8 0 8 9 2 2 4 8 0 9 9 4 9 3 2 9 0 3 9 9 4\n",
            " 0 0 0 3 3 9 0 9 2 4 9 9 9 8 1 9 1 4 3 2 8 4 9 4 4 3 3 3 3 4 0 9 6 5 2 9 4\n",
            " 3 2 9 9 9 0 9 3 0 4 9 0 2 8 4 9 2 1 4 0 4 3 2 0 4 8 9 6 2 0 0 9 3 5 1 0 0\n",
            " 3 4 0 4 3 4 0 0 2 9 9 5 3 0 6 5 0 2 0 9 9 0 8 3 0 0 9 9 5 9 5 2 5 4 5 4 2\n",
            " 4 5 2 2 4 2 6 3 0 9 3 0 9 1 3 2 9 9 2 0 0 8 9 8 4 9 9 9 9 9 9 0 4 9 9 9 0\n",
            " 3 9 4 3 5 9 8 3 9 9 0 3 0 0 9 4 0 9 3 9 9 8 3 9 3 8 9 5 9 9 0 9 2 4 4 0 9\n",
            " 9 9 2 9 5 3 6 4 3 9 8 9 3 9 4 9 9 9 4 6 4 9 9 9 0 3 3 9 0 9 4 0 5 8 9 6 1\n",
            " 2 4 8 5 0 4 3 0 0 9 9 9 9 9 0 0 9 0 9 2 3 3 2 1 9 0 0 9 9 9 2 9 0 9 9 9 4\n",
            " 0 2 9 9 9 3 4 4 9 3 8 9 9 9 4 9 0 3 3 3 9 3 9 4 9 8 8 0 4 0 0 0 0 9 2 0 3\n",
            " 2 9 2 4 4 5 9 8 9 0 0 0 9 0 0 3 8 7 0 9 0 0 0 3 2 9 3 9 4 9 3 9 4 0 9 4 9\n",
            " 4 0 0 4 9 4 8 9 2 9 2 2 9 0 4 0 9 8 5 4 0 9 6 3 3 9 3 4 4 9 0 0 4 4 9 8 8\n",
            " 0 0 3 6 9 0 3 3 0 9 0 9 9 9 0 8 3 5 0 9 3 3 9 4 4 0 0 0 3 3 3 9 3 9 9 3 9\n",
            " 3 3 3 0 9 0 9 4 5 1 8 2 5 3]\n",
            "[[1.35278947e+01 1.88982456e+01 8.75987719e+01 5.64618421e+02\n",
            "  9.33905263e-02 9.54654386e-02 6.60811842e-02 3.69109825e-02\n",
            "  1.74300000e-01 6.18768421e-02 2.96964035e-01 1.08132982e+00\n",
            "  2.10192018e+00 2.47834211e+01 5.87985965e-03 2.33318860e-02\n",
            "  2.69774825e-02 1.03275789e-02 1.81001930e-02 3.54847632e-03\n",
            "  1.51198246e+01 2.52007895e+01 9.93803509e+01 7.00954386e+02\n",
            "  1.27590526e-01 2.51542544e-01 2.46792474e-01 1.02252184e-01\n",
            "  2.84441228e-01 8.43661404e-02]\n",
            " [2.16750000e+01 2.26625000e+01 1.44733333e+02 1.46675000e+03\n",
            "  1.07715833e-01 1.73916667e-01 2.45833333e-01 1.31065833e-01\n",
            "  1.95425000e-01 6.02741667e-02 9.03566667e-01 1.31857500e+00\n",
            "  6.42233333e+00 1.27005000e+02 7.50666667e-03 4.05083333e-02\n",
            "  5.54833333e-02 1.67533333e-02 1.98733333e-02 4.17350000e-03\n",
            "  2.71833333e+01 3.00241667e+01 1.83983333e+02 2.27191667e+03\n",
            "  1.44983333e-01 4.09366667e-01 5.69216667e-01 2.28475000e-01\n",
            "  3.12266667e-01 8.52466667e-02]\n",
            " [1.71366000e+01 2.14948000e+01 1.12772000e+02 9.15630000e+02\n",
            "  9.91216000e-02 1.30897000e-01 1.36188800e-01 7.88774000e-02\n",
            "  1.88616000e-01 6.06816000e-02 5.52016000e-01 1.25337400e+00\n",
            "  3.96326000e+00 6.01042000e+01 6.68370000e-03 3.03699200e-02\n",
            "  3.83614000e-02 1.49649000e-02 1.95538000e-02 4.08894000e-03\n",
            "  2.03338000e+01 2.87338000e+01 1.35216000e+02 1.27164000e+03\n",
            "  1.37322800e-01 3.16113200e-01 3.78354000e-01 1.64783800e-01\n",
            "  3.11634000e-01 8.47776000e-02]\n",
            " [9.72085185e+00 1.76492593e+01 6.21166667e+01 2.89895062e+02\n",
            "  9.68350617e-02 8.17259259e-02 4.61360370e-02 1.84439383e-02\n",
            "  1.83617284e-01 6.91293827e-02 2.98916049e-01 1.50668025e+00\n",
            "  2.05739136e+00 1.78919259e+01 1.01495432e-02 2.59689136e-02\n",
            "  3.46799630e-02 1.02320988e-02 2.55390123e-02 5.21801235e-03\n",
            "  1.06801111e+01 2.27020988e+01 6.88470370e+01 3.48729630e+02\n",
            "  1.32518889e-01 1.66869753e-01 1.45090123e-01 5.28053086e-02\n",
            "  2.71822222e-01 8.66883951e-02]\n",
            " [1.49491139e+01 1.96298734e+01 9.77800000e+01 6.91555696e+02\n",
            "  9.80021519e-02 1.18588481e-01 1.05625063e-01 5.73111392e-02\n",
            "  1.84058228e-01 6.22192405e-02 3.62793671e-01 1.04726962e+00\n",
            "  2.62241772e+00 3.34617722e+01 6.04717722e-03 2.64834051e-02\n",
            "  3.32063165e-02 1.25175949e-02 1.87791899e-02 3.37813671e-03\n",
            "  1.72525316e+01 2.66032911e+01 1.14630380e+02 9.12658228e+02\n",
            "  1.35879620e-01 3.15792152e-01 3.49980127e-01 1.41139114e-01\n",
            "  3.04092405e-01 8.69821519e-02]\n",
            " [1.99319231e+01 2.20330769e+01 1.31950000e+02 1.23710000e+03\n",
            "  1.01086538e-01 1.57223846e-01 1.83885000e-01 1.03358077e-01\n",
            "  1.92600000e-01 6.12934615e-02 7.24403846e-01 1.02957308e+00\n",
            "  5.06257692e+00 9.20784615e+01 5.94592308e-03 3.09096154e-02\n",
            "  4.11569231e-02 1.49783846e-02 1.77303846e-02 3.86411538e-03\n",
            "  2.50984615e+01 2.94969231e+01 1.67723077e+02 1.92269231e+03\n",
            "  1.43569231e-01 4.08057692e-01 4.97996154e-01 2.08269231e-01\n",
            "  3.22396154e-01 9.20384615e-02]\n",
            " [2.43160000e+01 2.23750000e+01 1.61910000e+02 1.85420000e+03\n",
            "  1.03174000e-01 1.68032000e-01 2.35580000e-01 1.40631000e-01\n",
            "  1.79210000e-01 5.89640000e-02 1.23297000e+00 1.14835000e+00\n",
            "  8.82800000e+00 1.99120000e+02 6.61970000e-03 2.92370000e-02\n",
            "  3.93590000e-02 1.50810000e-02 1.95370000e-02 3.44310000e-03\n",
            "  3.09990000e+01 2.98160000e+01 2.08940000e+02 2.93600000e+03\n",
            "  1.40180000e-01 3.64520000e-01 4.68620000e-01 2.28060000e-01\n",
            "  2.76880000e-01 8.10070000e-02]\n",
            " [2.74200000e+01 2.62700000e+01 1.86900000e+02 2.50100000e+03\n",
            "  1.08400000e-01 1.98800000e-01 3.63500000e-01 1.68900000e-01\n",
            "  2.06100000e-01 5.62300000e-02 2.54700000e+00 1.30600000e+00\n",
            "  1.86500000e+01 5.42200000e+02 7.65000000e-03 5.37400000e-02\n",
            "  8.05500000e-02 2.59800000e-02 1.69700000e-02 4.55800000e-03\n",
            "  3.60400000e+01 3.13700000e+01 2.51200000e+02 4.25400000e+03\n",
            "  1.35700000e-01 4.25600000e-01 6.83300000e-01 2.62500000e-01\n",
            "  2.64100000e-01 7.42700000e-02]\n",
            " [1.91000000e+01 2.13630000e+01 1.26065000e+02 1.13602500e+03\n",
            "  1.00475750e-01 1.43913000e-01 1.70732750e-01 9.74315000e-02\n",
            "  1.93965000e-01 6.02322500e-02 7.13537500e-01 1.27260750e+00\n",
            "  4.94127500e+00 8.57392500e+01 6.97250000e-03 3.25435000e-02\n",
            "  4.47190000e-02 1.64037000e-02 2.29027500e-02 3.92027500e-03\n",
            "  2.29317500e+01 2.83962500e+01 1.52622500e+02 1.60482500e+03\n",
            "  1.39280000e-01 3.42745000e-01 4.38857500e-01 1.84350000e-01\n",
            "  3.17035000e-01 8.47537500e-02]\n",
            " [1.19111538e+01 1.80575000e+01 7.64958333e+01 4.36666026e+02\n",
            "  9.33370513e-02 7.78420513e-02 4.37377994e-02 2.51869423e-02\n",
            "  1.74724359e-01 6.25443590e-02 2.76408974e-01 1.25248910e+00\n",
            "  1.96096218e+00 2.01761667e+01 7.08055769e-03 2.04196090e-02\n",
            "  2.38645231e-02 9.90581410e-03 2.09443590e-02 3.29773205e-03\n",
            "  1.31200000e+01 2.41515385e+01 8.52241026e+01 5.26627564e+02\n",
            "  1.27284936e-01 1.82235705e-01 1.64872917e-01 7.57306538e-02\n",
            "  2.76668590e-01 7.90048077e-02]]\n"
          ]
        }
      ]
    },
    {
      "cell_type": "code",
      "metadata": {
        "colab": {
          "base_uri": "https://localhost:8080/",
          "height": 281
        },
        "id": "g8FJPsG5P-5N",
        "outputId": "c2a088e2-a624-4f99-ee28-fb9dc724dadd"
      },
      "source": [
        "plt.scatter(dataset.data[:, 0], dataset.target)\n",
        "plt.scatter(kmeans.cluster_centers_[:, 0], kmeans.cluster_centers_[:, 1],c='red', marker='x')\n",
        "plt.title('Data points and cluster centroids')\n",
        "plt.show()"
      ],
      "execution_count": 36,
      "outputs": [
        {
          "output_type": "display_data",
          "data": {
            "image/png": "[encoded data removed]",
            "text/plain": [
              "<Figure size 432x288 with 1 Axes>"
            ]
          },
          "metadata": {
            "needs_background": "light"
          }
        }
      ]
    },
    {
      "cell_type": "code",
      "metadata": {
        "id": "Gy6kruHyQC-l"
      },
      "source": [
        "import numpy as np\n",
        "from scipy.stats import mode\n",
        "labels = np.zeros_like(prediction)\n",
        "for i in range(10):\n",
        "  mask = (prediction == i)\n",
        "  labels[mask] = mode(dataset.target[mask])[0]"
      ],
      "execution_count": 37,
      "outputs": []
    },
    {
      "cell_type": "code",
      "metadata": {
        "colab": {
          "base_uri": "https://localhost:8080/"
        },
        "id": "7zVFvDkoQEtG",
        "outputId": "dcc507c7-1ad9-4c75-802a-add457602f6f"
      },
      "source": [
        "from sklearn.metrics import accuracy_score\n",
        "accuracy_score(dataset.target, labels)"
      ],
      "execution_count": 38,
      "outputs": [
        {
          "output_type": "execute_result",
          "data": {
            "text/plain": [
              "0.8875219683655536"
            ]
          },
          "metadata": {},
          "execution_count": 38
        }
      ]
    },
    {
      "cell_type": "code",
      "metadata": {
        "colab": {
          "base_uri": "https://localhost:8080/",
          "height": 296
        },
        "id": "3bzfHHLDQHlQ",
        "outputId": "dcccdb11-0325-4e0d-fb1a-fc0bfc004eaa"
      },
      "source": [
        "from sklearn.metrics import confusion_matrix\n",
        "import seaborn as sns\n",
        "mat = confusion_matrix(dataset.target, labels)\n",
        "ax = sns.heatmap(mat.T, square=True, annot=True, fmt='d', cbar=False,xticklabels=dataset.target_names,yticklabels=dataset.target_names)\n",
        "\n",
        "#ax.set_ylim(10,10)\n",
        "plt.xlabel('true label')\n",
        "plt.ylabel('predicted label')"
      ],
      "execution_count": 39,
      "outputs": [
        {
          "output_type": "execute_result",
          "data": {
            "text/plain": [
              "Text(91.68, 0.5, 'predicted label')"
            ]
          },
          "metadata": {},
          "execution_count": 39
        },
        {
          "output_type": "display_data",
          "data": {
            "image/png": "[encoded data removed]",
            "text/plain": [
              "<Figure size 432x288 with 1 Axes>"
            ]
          },
          "metadata": {
            "needs_background": "light"
          }
        }
      ]
    }
  ]
}