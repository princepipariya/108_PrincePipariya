{
 "cells": [
  {
   "cell_type": "code",
   "execution_count": 3,
   "id": "389cb51a",
   "metadata": {},
   "outputs": [
    {
     "ename": "ModuleNotFoundError",
     "evalue": "No module named 'tensorflow'",
     "output_type": "error",
     "traceback": [
      "\u001b[0;31m---------------------------------------------------------------------------\u001b[0m",
      "\u001b[0;31mModuleNotFoundError\u001b[0m                       Traceback (most recent call last)",
      "\u001b[0;32m<ipython-input-3-41d0b4864b72>\u001b[0m in \u001b[0;36m<module>\u001b[0;34m\u001b[0m\n\u001b[1;32m      1\u001b[0m \u001b[0;32mimport\u001b[0m \u001b[0mcsv\u001b[0m\u001b[0;34m\u001b[0m\u001b[0;34m\u001b[0m\u001b[0m\n\u001b[0;32m----> 2\u001b[0;31m \u001b[0;32mfrom\u001b[0m \u001b[0mtensorflow\u001b[0m\u001b[0;34m.\u001b[0m\u001b[0mkeras\u001b[0m\u001b[0;34m.\u001b[0m\u001b[0mpreprocessing\u001b[0m\u001b[0;34m.\u001b[0m\u001b[0mtext\u001b[0m \u001b[0;32mimport\u001b[0m \u001b[0mTokenizer\u001b[0m\u001b[0;34m\u001b[0m\u001b[0;34m\u001b[0m\u001b[0m\n\u001b[0m\u001b[1;32m      3\u001b[0m \u001b[0;32mfrom\u001b[0m \u001b[0mtensorflow\u001b[0m\u001b[0;34m.\u001b[0m\u001b[0mkeras\u001b[0m\u001b[0;34m.\u001b[0m\u001b[0mpreprocessing\u001b[0m\u001b[0;34m.\u001b[0m\u001b[0msequence\u001b[0m \u001b[0;32mimport\u001b[0m \u001b[0mpad_sequences\u001b[0m\u001b[0;34m\u001b[0m\u001b[0;34m\u001b[0m\u001b[0m\n\u001b[1;32m      4\u001b[0m \u001b[0;34m\u001b[0m\u001b[0m\n\u001b[1;32m      5\u001b[0m \u001b[0mstopwords\u001b[0m \u001b[0;34m=\u001b[0m \u001b[0;34m[\u001b[0m \u001b[0;34m\"a\"\u001b[0m\u001b[0;34m,\u001b[0m \u001b[0;34m\"about\"\u001b[0m\u001b[0;34m,\u001b[0m \u001b[0;34m\"above\"\u001b[0m\u001b[0;34m,\u001b[0m \u001b[0;34m\"after\"\u001b[0m\u001b[0;34m,\u001b[0m \u001b[0;34m\"again\"\u001b[0m\u001b[0;34m,\u001b[0m \u001b[0;34m\"against\"\u001b[0m\u001b[0;34m,\u001b[0m \u001b[0;34m\"all\"\u001b[0m\u001b[0;34m,\u001b[0m \u001b[0;34m\"am\"\u001b[0m\u001b[0;34m,\u001b[0m \u001b[0;34m\"an\"\u001b[0m\u001b[0;34m,\u001b[0m \u001b[0;34m\"and\"\u001b[0m\u001b[0;34m,\u001b[0m \u001b[0;34m\"any\"\u001b[0m\u001b[0;34m,\u001b[0m \u001b[0;34m\"are\"\u001b[0m\u001b[0;34m,\u001b[0m \u001b[0;34m\"as\"\u001b[0m\u001b[0;34m,\u001b[0m \u001b[0;34m\"at\"\u001b[0m\u001b[0;34m,\u001b[0m \u001b[0;34m\"be\"\u001b[0m\u001b[0;34m,\u001b[0m \u001b[0;34m\"because\"\u001b[0m\u001b[0;34m,\u001b[0m \u001b[0;34m\"been\"\u001b[0m\u001b[0;34m,\u001b[0m \u001b[0;34m\"before\"\u001b[0m\u001b[0;34m,\u001b[0m \u001b[0;34m\"being\"\u001b[0m\u001b[0;34m,\u001b[0m \u001b[0;34m\"below\"\u001b[0m\u001b[0;34m,\u001b[0m \u001b[0;34m\"between\"\u001b[0m\u001b[0;34m,\u001b[0m \u001b[0;34m\"both\"\u001b[0m\u001b[0;34m,\u001b[0m \u001b[0;34m\"but\"\u001b[0m\u001b[0;34m,\u001b[0m \u001b[0;34m\"by\"\u001b[0m\u001b[0;34m,\u001b[0m \u001b[0;34m\"could\"\u001b[0m\u001b[0;34m,\u001b[0m \u001b[0;34m\"did\"\u001b[0m\u001b[0;34m,\u001b[0m \u001b[0;34m\"do\"\u001b[0m\u001b[0;34m,\u001b[0m \u001b[0;34m\"does\"\u001b[0m\u001b[0;34m,\u001b[0m \u001b[0;34m\"doing\"\u001b[0m\u001b[0;34m,\u001b[0m \u001b[0;34m\"down\"\u001b[0m\u001b[0;34m,\u001b[0m \u001b[0;34m\"during\"\u001b[0m\u001b[0;34m,\u001b[0m \u001b[0;34m\"each\"\u001b[0m\u001b[0;34m,\u001b[0m \u001b[0;34m\"few\"\u001b[0m\u001b[0;34m,\u001b[0m \u001b[0;34m\"for\"\u001b[0m\u001b[0;34m,\u001b[0m \u001b[0;34m\"from\"\u001b[0m\u001b[0;34m,\u001b[0m \u001b[0;34m\"further\"\u001b[0m\u001b[0;34m,\u001b[0m \u001b[0;34m\"had\"\u001b[0m\u001b[0;34m,\u001b[0m \u001b[0;34m\"has\"\u001b[0m\u001b[0;34m,\u001b[0m \u001b[0;34m\"have\"\u001b[0m\u001b[0;34m,\u001b[0m \u001b[0;34m\"having\"\u001b[0m\u001b[0;34m,\u001b[0m \u001b[0;34m\"he\"\u001b[0m\u001b[0;34m,\u001b[0m \u001b[0;34m\"he'd\"\u001b[0m\u001b[0;34m,\u001b[0m \u001b[0;34m\"he'll\"\u001b[0m\u001b[0;34m,\u001b[0m \u001b[0;34m\"he's\"\u001b[0m\u001b[0;34m,\u001b[0m \u001b[0;34m\"her\"\u001b[0m\u001b[0;34m,\u001b[0m \u001b[0;34m\"here\"\u001b[0m\u001b[0;34m,\u001b[0m \u001b[0;34m\"here's\"\u001b[0m\u001b[0;34m,\u001b[0m \u001b[0;34m\"hers\"\u001b[0m\u001b[0;34m,\u001b[0m \u001b[0;34m\"herself\"\u001b[0m\u001b[0;34m,\u001b[0m \u001b[0;34m\"him\"\u001b[0m\u001b[0;34m,\u001b[0m \u001b[0;34m\"himself\"\u001b[0m\u001b[0;34m,\u001b[0m \u001b[0;34m\"his\"\u001b[0m\u001b[0;34m,\u001b[0m \u001b[0;34m\"how\"\u001b[0m\u001b[0;34m,\u001b[0m \u001b[0;34m\"how's\"\u001b[0m\u001b[0;34m,\u001b[0m \u001b[0;34m\"i\"\u001b[0m\u001b[0;34m,\u001b[0m \u001b[0;34m\"i'd\"\u001b[0m\u001b[0;34m,\u001b[0m \u001b[0;34m\"i'll\"\u001b[0m\u001b[0;34m,\u001b[0m \u001b[0;34m\"i'm\"\u001b[0m\u001b[0;34m,\u001b[0m \u001b[0;34m\"i've\"\u001b[0m\u001b[0;34m,\u001b[0m \u001b[0;34m\"if\"\u001b[0m\u001b[0;34m,\u001b[0m \u001b[0;34m\"in\"\u001b[0m\u001b[0;34m,\u001b[0m \u001b[0;34m\"into\"\u001b[0m\u001b[0;34m,\u001b[0m \u001b[0;34m\"is\"\u001b[0m\u001b[0;34m,\u001b[0m \u001b[0;34m\"it\"\u001b[0m\u001b[0;34m,\u001b[0m \u001b[0;34m\"it's\"\u001b[0m\u001b[0;34m,\u001b[0m \u001b[0;34m\"its\"\u001b[0m\u001b[0;34m,\u001b[0m \u001b[0;34m\"itself\"\u001b[0m\u001b[0;34m,\u001b[0m \u001b[0;34m\"let's\"\u001b[0m\u001b[0;34m,\u001b[0m \u001b[0;34m\"me\"\u001b[0m\u001b[0;34m,\u001b[0m \u001b[0;34m\"more\"\u001b[0m\u001b[0;34m,\u001b[0m \u001b[0;34m\"most\"\u001b[0m\u001b[0;34m,\u001b[0m \u001b[0;34m\"my\"\u001b[0m\u001b[0;34m,\u001b[0m \u001b[0;34m\"myself\"\u001b[0m\u001b[0;34m,\u001b[0m \u001b[0;34m\"nor\"\u001b[0m\u001b[0;34m,\u001b[0m \u001b[0;34m\"of\"\u001b[0m\u001b[0;34m,\u001b[0m \u001b[0;34m\"on\"\u001b[0m\u001b[0;34m,\u001b[0m \u001b[0;34m\"once\"\u001b[0m\u001b[0;34m,\u001b[0m \u001b[0;34m\"only\"\u001b[0m\u001b[0;34m,\u001b[0m \u001b[0;34m\"or\"\u001b[0m\u001b[0;34m,\u001b[0m \u001b[0;34m\"other\"\u001b[0m\u001b[0;34m,\u001b[0m \u001b[0;34m\"ought\"\u001b[0m\u001b[0;34m,\u001b[0m \u001b[0;34m\"our\"\u001b[0m\u001b[0;34m,\u001b[0m \u001b[0;34m\"ours\"\u001b[0m\u001b[0;34m,\u001b[0m \u001b[0;34m\"ourselves\"\u001b[0m\u001b[0;34m,\u001b[0m \u001b[0;34m\"out\"\u001b[0m\u001b[0;34m,\u001b[0m \u001b[0;34m\"over\"\u001b[0m\u001b[0;34m,\u001b[0m \u001b[0;34m\"own\"\u001b[0m\u001b[0;34m,\u001b[0m \u001b[0;34m\"same\"\u001b[0m\u001b[0;34m,\u001b[0m \u001b[0;34m\"she\"\u001b[0m\u001b[0;34m,\u001b[0m \u001b[0;34m\"she'd\"\u001b[0m\u001b[0;34m,\u001b[0m \u001b[0;34m\"she'll\"\u001b[0m\u001b[0;34m,\u001b[0m \u001b[0;34m\"she's\"\u001b[0m\u001b[0;34m,\u001b[0m \u001b[0;34m\"should\"\u001b[0m\u001b[0;34m,\u001b[0m \u001b[0;34m\"so\"\u001b[0m\u001b[0;34m,\u001b[0m \u001b[0;34m\"some\"\u001b[0m\u001b[0;34m,\u001b[0m \u001b[0;34m\"such\"\u001b[0m\u001b[0;34m,\u001b[0m \u001b[0;34m\"than\"\u001b[0m\u001b[0;34m,\u001b[0m \u001b[0;34m\"that\"\u001b[0m\u001b[0;34m,\u001b[0m \u001b[0;34m\"that's\"\u001b[0m\u001b[0;34m,\u001b[0m \u001b[0;34m\"the\"\u001b[0m\u001b[0;34m,\u001b[0m \u001b[0;34m\"their\"\u001b[0m\u001b[0;34m,\u001b[0m \u001b[0;34m\"theirs\"\u001b[0m\u001b[0;34m,\u001b[0m \u001b[0;34m\"them\"\u001b[0m\u001b[0;34m,\u001b[0m \u001b[0;34m\"themselves\"\u001b[0m\u001b[0;34m,\u001b[0m \u001b[0;34m\"then\"\u001b[0m\u001b[0;34m,\u001b[0m \u001b[0;34m\"there\"\u001b[0m\u001b[0;34m,\u001b[0m \u001b[0;34m\"there's\"\u001b[0m\u001b[0;34m,\u001b[0m \u001b[0;34m\"these\"\u001b[0m\u001b[0;34m,\u001b[0m \u001b[0;34m\"they\"\u001b[0m\u001b[0;34m,\u001b[0m \u001b[0;34m\"they'd\"\u001b[0m\u001b[0;34m,\u001b[0m \u001b[0;34m\"they'll\"\u001b[0m\u001b[0;34m,\u001b[0m \u001b[0;34m\"they're\"\u001b[0m\u001b[0;34m,\u001b[0m \u001b[0;34m\"they've\"\u001b[0m\u001b[0;34m,\u001b[0m \u001b[0;34m\"this\"\u001b[0m\u001b[0;34m,\u001b[0m \u001b[0;34m\"those\"\u001b[0m\u001b[0;34m,\u001b[0m \u001b[0;34m\"through\"\u001b[0m\u001b[0;34m,\u001b[0m \u001b[0;34m\"to\"\u001b[0m\u001b[0;34m,\u001b[0m \u001b[0;34m\"too\"\u001b[0m\u001b[0;34m,\u001b[0m \u001b[0;34m\"under\"\u001b[0m\u001b[0;34m,\u001b[0m \u001b[0;34m\"until\"\u001b[0m\u001b[0;34m,\u001b[0m \u001b[0;34m\"up\"\u001b[0m\u001b[0;34m,\u001b[0m \u001b[0;34m\"very\"\u001b[0m\u001b[0;34m,\u001b[0m \u001b[0;34m\"was\"\u001b[0m\u001b[0;34m,\u001b[0m \u001b[0;34m\"we\"\u001b[0m\u001b[0;34m,\u001b[0m \u001b[0;34m\"we'd\"\u001b[0m\u001b[0;34m,\u001b[0m \u001b[0;34m\"we'll\"\u001b[0m\u001b[0;34m,\u001b[0m \u001b[0;34m\"we're\"\u001b[0m\u001b[0;34m,\u001b[0m \u001b[0;34m\"we've\"\u001b[0m\u001b[0;34m,\u001b[0m \u001b[0;34m\"were\"\u001b[0m\u001b[0;34m,\u001b[0m \u001b[0;34m\"what\"\u001b[0m\u001b[0;34m,\u001b[0m \u001b[0;34m\"what's\"\u001b[0m\u001b[0;34m,\u001b[0m \u001b[0;34m\"when\"\u001b[0m\u001b[0;34m,\u001b[0m \u001b[0;34m\"when's\"\u001b[0m\u001b[0;34m,\u001b[0m \u001b[0;34m\"where\"\u001b[0m\u001b[0;34m,\u001b[0m \u001b[0;34m\"where's\"\u001b[0m\u001b[0;34m,\u001b[0m \u001b[0;34m\"which\"\u001b[0m\u001b[0;34m,\u001b[0m \u001b[0;34m\"while\"\u001b[0m\u001b[0;34m,\u001b[0m \u001b[0;34m\"who\"\u001b[0m\u001b[0;34m,\u001b[0m \u001b[0;34m\"who's\"\u001b[0m\u001b[0;34m,\u001b[0m \u001b[0;34m\"whom\"\u001b[0m\u001b[0;34m,\u001b[0m \u001b[0;34m\"why\"\u001b[0m\u001b[0;34m,\u001b[0m \u001b[0;34m\"why's\"\u001b[0m\u001b[0;34m,\u001b[0m \u001b[0;34m\"with\"\u001b[0m\u001b[0;34m,\u001b[0m \u001b[0;34m\"would\"\u001b[0m\u001b[0;34m,\u001b[0m \u001b[0;34m\"you\"\u001b[0m\u001b[0;34m,\u001b[0m \u001b[0;34m\"you'd\"\u001b[0m\u001b[0;34m,\u001b[0m \u001b[0;34m\"you'll\"\u001b[0m\u001b[0;34m,\u001b[0m \u001b[0;34m\"you're\"\u001b[0m\u001b[0;34m,\u001b[0m \u001b[0;34m\"you've\"\u001b[0m\u001b[0;34m,\u001b[0m \u001b[0;34m\"your\"\u001b[0m\u001b[0;34m,\u001b[0m \u001b[0;34m\"yours\"\u001b[0m\u001b[0;34m,\u001b[0m \u001b[0;34m\"yourself\"\u001b[0m\u001b[0;34m,\u001b[0m \u001b[0;34m\"yourselves\"\u001b[0m \u001b[0;34m]\u001b[0m\u001b[0;34m\u001b[0m\u001b[0;34m\u001b[0m\u001b[0m\n",
      "\u001b[0;31mModuleNotFoundError\u001b[0m: No module named 'tensorflow'"
     ]
    }
   ],
   "source": [
    "import csv\n",
    "from tensorflow.keras.preprocessing.text import Tokenizer\n",
    "from tensorflow.keras.preprocessing.sequence import pad_sequences\n",
    "\n",
    "stopwords = [ \"a\", \"about\", \"above\", \"after\", \"again\", \"against\", \"all\", \"am\", \"an\", \"and\", \"any\", \"are\", \"as\", \"at\", \"be\", \"because\", \"been\", \"before\", \"being\", \"below\", \"between\", \"both\", \"but\", \"by\", \"could\", \"did\", \"do\", \"does\", \"doing\", \"down\", \"during\", \"each\", \"few\", \"for\", \"from\", \"further\", \"had\", \"has\", \"have\", \"having\", \"he\", \"he'd\", \"he'll\", \"he's\", \"her\", \"here\", \"here's\", \"hers\", \"herself\", \"him\", \"himself\", \"his\", \"how\", \"how's\", \"i\", \"i'd\", \"i'll\", \"i'm\", \"i've\", \"if\", \"in\", \"into\", \"is\", \"it\", \"it's\", \"its\", \"itself\", \"let's\", \"me\", \"more\", \"most\", \"my\", \"myself\", \"nor\", \"of\", \"on\", \"once\", \"only\", \"or\", \"other\", \"ought\", \"our\", \"ours\", \"ourselves\", \"out\", \"over\", \"own\", \"same\", \"she\", \"she'd\", \"she'll\", \"she's\", \"should\", \"so\", \"some\", \"such\", \"than\", \"that\", \"that's\", \"the\", \"their\", \"theirs\", \"them\", \"themselves\", \"then\", \"there\", \"there's\", \"these\", \"they\", \"they'd\", \"they'll\", \"they're\", \"they've\", \"this\", \"those\", \"through\", \"to\", \"too\", \"under\", \"until\", \"up\", \"very\", \"was\", \"we\", \"we'd\", \"we'll\", \"we're\", \"we've\", \"were\", \"what\", \"what's\", \"when\", \"when's\", \"where\", \"where's\", \"which\", \"while\", \"who\", \"who's\", \"whom\", \"why\", \"why's\", \"with\", \"would\", \"you\", \"you'd\", \"you'll\", \"you're\", \"you've\", \"your\", \"yours\", \"yourself\", \"yourselves\" ]"
   ]
  },
  {
   "cell_type": "code",
   "execution_count": 4,
   "id": "bfe38bdd",
   "metadata": {},
   "outputs": [
    {
     "ename": "NameError",
     "evalue": "name 'stopwords' is not defined",
     "output_type": "error",
     "traceback": [
      "\u001b[0;31m---------------------------------------------------------------------------\u001b[0m",
      "\u001b[0;31mNameError\u001b[0m                                 Traceback (most recent call last)",
      "\u001b[0;32m<ipython-input-4-53d89d3c21d3>\u001b[0m in \u001b[0;36m<module>\u001b[0;34m\u001b[0m\n\u001b[1;32m      7\u001b[0m         \u001b[0mlabels\u001b[0m\u001b[0;34m.\u001b[0m\u001b[0mappend\u001b[0m\u001b[0;34m(\u001b[0m\u001b[0mrow\u001b[0m\u001b[0;34m[\u001b[0m\u001b[0;36m0\u001b[0m\u001b[0;34m]\u001b[0m\u001b[0;34m)\u001b[0m\u001b[0;34m\u001b[0m\u001b[0;34m\u001b[0m\u001b[0m\n\u001b[1;32m      8\u001b[0m         \u001b[0msentence\u001b[0m \u001b[0;34m=\u001b[0m \u001b[0mrow\u001b[0m\u001b[0;34m[\u001b[0m\u001b[0;36m1\u001b[0m\u001b[0;34m]\u001b[0m\u001b[0;34m\u001b[0m\u001b[0;34m\u001b[0m\u001b[0m\n\u001b[0;32m----> 9\u001b[0;31m         \u001b[0;32mfor\u001b[0m \u001b[0mword\u001b[0m \u001b[0;32min\u001b[0m \u001b[0mstopwords\u001b[0m\u001b[0;34m:\u001b[0m\u001b[0;34m\u001b[0m\u001b[0;34m\u001b[0m\u001b[0m\n\u001b[0m\u001b[1;32m     10\u001b[0m             \u001b[0mtoken\u001b[0m \u001b[0;34m=\u001b[0m \u001b[0;34m\" \"\u001b[0m \u001b[0;34m+\u001b[0m \u001b[0mword\u001b[0m \u001b[0;34m+\u001b[0m \u001b[0;34m\" \"\u001b[0m\u001b[0;34m\u001b[0m\u001b[0;34m\u001b[0m\u001b[0m\n\u001b[1;32m     11\u001b[0m             \u001b[0msentence\u001b[0m \u001b[0;34m=\u001b[0m \u001b[0msentence\u001b[0m\u001b[0;34m.\u001b[0m\u001b[0mreplace\u001b[0m\u001b[0;34m(\u001b[0m\u001b[0mtoken\u001b[0m\u001b[0;34m,\u001b[0m \u001b[0;34m\" \"\u001b[0m\u001b[0;34m)\u001b[0m\u001b[0;34m\u001b[0m\u001b[0;34m\u001b[0m\u001b[0m\n",
      "\u001b[0;31mNameError\u001b[0m: name 'stopwords' is not defined"
     ]
    }
   ],
   "source": [
    "sentences = []\n",
    "labels = []\n",
    "with open(\"bbc-text-small.csv\", 'r') as csvfile:\n",
    "    reader = csv.reader(csvfile, delimiter=',')\n",
    "    next(reader)\n",
    "    for row in reader:\n",
    "        labels.append(row[0])\n",
    "        sentence = row[1]\n",
    "        for word in stopwords:\n",
    "            token = \" \" + word + \" \"\n",
    "            sentence = sentence.replace(token, \" \")\n",
    "            sentence = sentence.replace(\"  \", \" \")\n",
    "        sentences.append(sentence)\n",
    "\n",
    "\n",
    "print(len(sentences))\n",
    "print(sentences[3])\n",
    "print(labels[3])"
   ]
  },
  {
   "cell_type": "code",
   "execution_count": 5,
   "id": "4ff750aa",
   "metadata": {},
   "outputs": [
    {
     "ename": "NameError",
     "evalue": "name 'Tokenizer' is not defined",
     "output_type": "error",
     "traceback": [
      "\u001b[0;31m---------------------------------------------------------------------------\u001b[0m",
      "\u001b[0;31mNameError\u001b[0m                                 Traceback (most recent call last)",
      "\u001b[0;32m<ipython-input-5-fc5448daf271>\u001b[0m in \u001b[0;36m<module>\u001b[0;34m\u001b[0m\n\u001b[0;32m----> 1\u001b[0;31m \u001b[0mtokenizer\u001b[0m \u001b[0;34m=\u001b[0m \u001b[0mTokenizer\u001b[0m\u001b[0;34m(\u001b[0m\u001b[0moov_token\u001b[0m \u001b[0;34m=\u001b[0m \u001b[0;34m'<OOV>'\u001b[0m\u001b[0;34m)\u001b[0m \u001b[0;31m# OOV - Out Of Vocabulary\u001b[0m\u001b[0;34m\u001b[0m\u001b[0;34m\u001b[0m\u001b[0m\n\u001b[0m\u001b[1;32m      2\u001b[0m \u001b[0mtokenizer\u001b[0m\u001b[0;34m.\u001b[0m\u001b[0mfit_on_texts\u001b[0m\u001b[0;34m(\u001b[0m\u001b[0msentences\u001b[0m\u001b[0;34m)\u001b[0m\u001b[0;34m\u001b[0m\u001b[0;34m\u001b[0m\u001b[0m\n\u001b[1;32m      3\u001b[0m \u001b[0mword_index\u001b[0m \u001b[0;34m=\u001b[0m \u001b[0mtokenizer\u001b[0m\u001b[0;34m.\u001b[0m\u001b[0mword_index\u001b[0m\u001b[0;34m\u001b[0m\u001b[0;34m\u001b[0m\u001b[0m\n\u001b[1;32m      4\u001b[0m \u001b[0mprint\u001b[0m\u001b[0;34m(\u001b[0m\u001b[0mword_index\u001b[0m\u001b[0;34m)\u001b[0m\u001b[0;34m\u001b[0m\u001b[0;34m\u001b[0m\u001b[0m\n",
      "\u001b[0;31mNameError\u001b[0m: name 'Tokenizer' is not defined"
     ]
    }
   ],
   "source": [
    "tokenizer = Tokenizer(oov_token = '<OOV>') # OOV - Out Of Vocabulary\n",
    "tokenizer.fit_on_texts(sentences)\n",
    "word_index = tokenizer.word_index\n",
    "print(word_index)"
   ]
  },
  {
   "cell_type": "code",
   "execution_count": 6,
   "id": "7465fdd6",
   "metadata": {},
   "outputs": [
    {
     "ename": "NameError",
     "evalue": "name 'tokenizer' is not defined",
     "output_type": "error",
     "traceback": [
      "\u001b[0;31m---------------------------------------------------------------------------\u001b[0m",
      "\u001b[0;31mNameError\u001b[0m                                 Traceback (most recent call last)",
      "\u001b[0;32m<ipython-input-6-91fd07c6fb12>\u001b[0m in \u001b[0;36m<module>\u001b[0;34m\u001b[0m\n\u001b[0;32m----> 1\u001b[0;31m \u001b[0msequences\u001b[0m \u001b[0;34m=\u001b[0m \u001b[0mtokenizer\u001b[0m\u001b[0;34m.\u001b[0m\u001b[0mtexts_to_sequences\u001b[0m\u001b[0;34m(\u001b[0m\u001b[0msentences\u001b[0m\u001b[0;34m)\u001b[0m\u001b[0;34m\u001b[0m\u001b[0;34m\u001b[0m\u001b[0m\n\u001b[0m\u001b[1;32m      2\u001b[0m \u001b[0mpadded\u001b[0m \u001b[0;34m=\u001b[0m \u001b[0mpad_sequences\u001b[0m\u001b[0;34m(\u001b[0m\u001b[0msequences\u001b[0m\u001b[0;34m,\u001b[0m \u001b[0mpadding\u001b[0m \u001b[0;34m=\u001b[0m \u001b[0;34m'post'\u001b[0m\u001b[0;34m)\u001b[0m\u001b[0;34m\u001b[0m\u001b[0;34m\u001b[0m\u001b[0m\n\u001b[1;32m      3\u001b[0m \u001b[0mprint\u001b[0m\u001b[0;34m(\u001b[0m\u001b[0mpadded\u001b[0m\u001b[0;34m[\u001b[0m\u001b[0;36m0\u001b[0m\u001b[0;34m]\u001b[0m\u001b[0;34m)\u001b[0m\u001b[0;34m\u001b[0m\u001b[0;34m\u001b[0m\u001b[0m\n\u001b[1;32m      4\u001b[0m \u001b[0mprint\u001b[0m\u001b[0;34m(\u001b[0m\u001b[0mpadded\u001b[0m\u001b[0;34m.\u001b[0m\u001b[0mshape\u001b[0m\u001b[0;34m)\u001b[0m\u001b[0;34m\u001b[0m\u001b[0;34m\u001b[0m\u001b[0m\n",
      "\u001b[0;31mNameError\u001b[0m: name 'tokenizer' is not defined"
     ]
    }
   ],
   "source": [
    "sequences = tokenizer.texts_to_sequences(sentences)\n",
    "padded = pad_sequences(sequences, padding = 'post')\n",
    "print(padded[0])\n",
    "print(padded.shape)"
   ]
  },
  {
   "cell_type": "code",
   "execution_count": 7,
   "id": "e808d755",
   "metadata": {},
   "outputs": [
    {
     "ename": "NameError",
     "evalue": "name 'Tokenizer' is not defined",
     "output_type": "error",
     "traceback": [
      "\u001b[0;31m---------------------------------------------------------------------------\u001b[0m",
      "\u001b[0;31mNameError\u001b[0m                                 Traceback (most recent call last)",
      "\u001b[0;32m<ipython-input-7-479cc84a4f41>\u001b[0m in \u001b[0;36m<module>\u001b[0;34m\u001b[0m\n\u001b[0;32m----> 1\u001b[0;31m \u001b[0mlabel_tok\u001b[0m \u001b[0;34m=\u001b[0m \u001b[0mTokenizer\u001b[0m\u001b[0;34m(\u001b[0m\u001b[0;34m)\u001b[0m\u001b[0;34m\u001b[0m\u001b[0;34m\u001b[0m\u001b[0m\n\u001b[0m\u001b[1;32m      2\u001b[0m \u001b[0mlabel_tok\u001b[0m\u001b[0;34m.\u001b[0m\u001b[0mfit_on_texts\u001b[0m\u001b[0;34m(\u001b[0m\u001b[0mlabels\u001b[0m\u001b[0;34m)\u001b[0m\u001b[0;34m\u001b[0m\u001b[0;34m\u001b[0m\u001b[0m\n\u001b[1;32m      3\u001b[0m \u001b[0mlabel_with_index\u001b[0m \u001b[0;34m=\u001b[0m \u001b[0mlabel_tok\u001b[0m\u001b[0;34m.\u001b[0m\u001b[0mword_index\u001b[0m\u001b[0;34m\u001b[0m\u001b[0;34m\u001b[0m\u001b[0m\n\u001b[1;32m      4\u001b[0m \u001b[0mlabel_with_sequence\u001b[0m \u001b[0;34m=\u001b[0m \u001b[0mlabel_tok\u001b[0m\u001b[0;34m.\u001b[0m\u001b[0mtexts_to_sequences\u001b[0m\u001b[0;34m(\u001b[0m\u001b[0mlabels\u001b[0m\u001b[0;34m)\u001b[0m\u001b[0;34m\u001b[0m\u001b[0;34m\u001b[0m\u001b[0m\n\u001b[1;32m      5\u001b[0m \u001b[0mprint\u001b[0m\u001b[0;34m(\u001b[0m\u001b[0mlabel_with_index\u001b[0m\u001b[0;34m)\u001b[0m\u001b[0;34m\u001b[0m\u001b[0;34m\u001b[0m\u001b[0m\n",
      "\u001b[0;31mNameError\u001b[0m: name 'Tokenizer' is not defined"
     ]
    }
   ],
   "source": [
    "label_tok = Tokenizer()\n",
    "label_tok.fit_on_texts(labels)\n",
    "label_with_index = label_tok.word_index\n",
    "label_with_sequence = label_tok.texts_to_sequences(labels)\n",
    "print(label_with_index)\n",
    "print(label_with_sequence)"
   ]
  },
  {
   "cell_type": "markdown",
   "id": "86709163",
   "metadata": {},
   "source": [
    "# Example 2"
   ]
  },
  {
   "cell_type": "code",
   "execution_count": 8,
   "id": "3079215e",
   "metadata": {},
   "outputs": [],
   "source": [
    "sentences = [\n",
    "    'At DDU, we are Learning ML in semester 7 !!!',\n",
    "    'I love ml subject',\n",
    "    'Prof Brijesh Bhatt and prof. Hariom Pandya are faculties for the Ml subject',\n",
    "    'Do you think ML is amazing?'\n",
    "]"
   ]
  },
  {
   "cell_type": "code",
   "execution_count": 9,
   "id": "9910355d",
   "metadata": {},
   "outputs": [
    {
     "ename": "NameError",
     "evalue": "name 'stopwords' is not defined",
     "output_type": "error",
     "traceback": [
      "\u001b[0;31m---------------------------------------------------------------------------\u001b[0m",
      "\u001b[0;31mNameError\u001b[0m                                 Traceback (most recent call last)",
      "\u001b[0;32m<ipython-input-9-4d4326e485f9>\u001b[0m in \u001b[0;36m<module>\u001b[0;34m\u001b[0m\n\u001b[1;32m      2\u001b[0m \u001b[0;32mfor\u001b[0m \u001b[0msentence\u001b[0m \u001b[0;32min\u001b[0m \u001b[0msentences\u001b[0m\u001b[0;34m:\u001b[0m\u001b[0;34m\u001b[0m\u001b[0;34m\u001b[0m\u001b[0m\n\u001b[1;32m      3\u001b[0m     \u001b[0msentence\u001b[0m \u001b[0;34m=\u001b[0m \u001b[0msentence\u001b[0m\u001b[0;34m.\u001b[0m\u001b[0mlower\u001b[0m\u001b[0;34m(\u001b[0m\u001b[0;34m)\u001b[0m\u001b[0;34m\u001b[0m\u001b[0;34m\u001b[0m\u001b[0m\n\u001b[0;32m----> 4\u001b[0;31m     \u001b[0;32mfor\u001b[0m \u001b[0mword\u001b[0m \u001b[0;32min\u001b[0m \u001b[0mstopwords\u001b[0m\u001b[0;34m:\u001b[0m\u001b[0;34m\u001b[0m\u001b[0;34m\u001b[0m\u001b[0m\n\u001b[0m\u001b[1;32m      5\u001b[0m         \u001b[0mstop_word\u001b[0m \u001b[0;34m=\u001b[0m \u001b[0;34m\" \"\u001b[0m \u001b[0;34m+\u001b[0m \u001b[0mword\u001b[0m \u001b[0;34m+\u001b[0m \u001b[0;34m\" \"\u001b[0m\u001b[0;34m\u001b[0m\u001b[0;34m\u001b[0m\u001b[0m\n\u001b[1;32m      6\u001b[0m         \u001b[0msentence\u001b[0m \u001b[0;34m=\u001b[0m \u001b[0msentence\u001b[0m\u001b[0;34m.\u001b[0m\u001b[0mreplace\u001b[0m\u001b[0;34m(\u001b[0m\u001b[0mstop_word\u001b[0m\u001b[0;34m,\u001b[0m \u001b[0;34m\" \"\u001b[0m\u001b[0;34m)\u001b[0m\u001b[0;34m\u001b[0m\u001b[0;34m\u001b[0m\u001b[0m\n",
      "\u001b[0;31mNameError\u001b[0m: name 'stopwords' is not defined"
     ]
    }
   ],
   "source": [
    "new_sentences = []\n",
    "for sentence in sentences:\n",
    "    sentence = sentence.lower()\n",
    "    for word in stopwords:\n",
    "        stop_word = \" \" + word + \" \"\n",
    "        sentence = sentence.replace(stop_word, \" \")\n",
    "        sentence = sentence.replace(\"  \", \" \")\n",
    "    new_sentences.append(sentence)\n",
    "\n",
    "print(*new_sentences, sep=\"\\n\")"
   ]
  },
  {
   "cell_type": "code",
   "execution_count": 10,
   "id": "6e7248a4",
   "metadata": {},
   "outputs": [
    {
     "ename": "NameError",
     "evalue": "name 'Tokenizer' is not defined",
     "output_type": "error",
     "traceback": [
      "\u001b[0;31m---------------------------------------------------------------------------\u001b[0m",
      "\u001b[0;31mNameError\u001b[0m                                 Traceback (most recent call last)",
      "\u001b[0;32m<ipython-input-10-44b3b4e45d91>\u001b[0m in \u001b[0;36m<module>\u001b[0;34m\u001b[0m\n\u001b[0;32m----> 1\u001b[0;31m \u001b[0mtokenizer\u001b[0m \u001b[0;34m=\u001b[0m \u001b[0mTokenizer\u001b[0m\u001b[0;34m(\u001b[0m\u001b[0moov_token\u001b[0m \u001b[0;34m=\u001b[0m \u001b[0;34m'<OOV>'\u001b[0m\u001b[0;34m)\u001b[0m\u001b[0;34m\u001b[0m\u001b[0;34m\u001b[0m\u001b[0m\n\u001b[0m\u001b[1;32m      2\u001b[0m \u001b[0mtokenizer\u001b[0m\u001b[0;34m.\u001b[0m\u001b[0mfit_on_texts\u001b[0m\u001b[0;34m(\u001b[0m\u001b[0mnew_sentences\u001b[0m\u001b[0;34m)\u001b[0m\u001b[0;34m\u001b[0m\u001b[0;34m\u001b[0m\u001b[0m\n\u001b[1;32m      3\u001b[0m \u001b[0mword_index\u001b[0m \u001b[0;34m=\u001b[0m \u001b[0mtokenizer\u001b[0m\u001b[0;34m.\u001b[0m\u001b[0mword_index\u001b[0m\u001b[0;34m\u001b[0m\u001b[0;34m\u001b[0m\u001b[0m\n\u001b[1;32m      4\u001b[0m \u001b[0;34m\u001b[0m\u001b[0m\n\u001b[1;32m      5\u001b[0m \u001b[0mprint\u001b[0m\u001b[0;34m(\u001b[0m\u001b[0mword_index\u001b[0m\u001b[0;34m)\u001b[0m\u001b[0;34m\u001b[0m\u001b[0;34m\u001b[0m\u001b[0m\n",
      "\u001b[0;31mNameError\u001b[0m: name 'Tokenizer' is not defined"
     ]
    }
   ],
   "source": [
    "tokenizer = Tokenizer(oov_token = '<OOV>')\n",
    "tokenizer.fit_on_texts(new_sentences)\n",
    "word_index = tokenizer.word_index\n",
    "\n",
    "print(word_index)"
   ]
  },
  {
   "cell_type": "code",
   "execution_count": 11,
   "id": "61a2b0a7",
   "metadata": {},
   "outputs": [
    {
     "ename": "NameError",
     "evalue": "name 'tokenizer' is not defined",
     "output_type": "error",
     "traceback": [
      "\u001b[0;31m---------------------------------------------------------------------------\u001b[0m",
      "\u001b[0;31mNameError\u001b[0m                                 Traceback (most recent call last)",
      "\u001b[0;32m<ipython-input-11-f1700b939fe5>\u001b[0m in \u001b[0;36m<module>\u001b[0;34m\u001b[0m\n\u001b[0;32m----> 1\u001b[0;31m \u001b[0msequences\u001b[0m \u001b[0;34m=\u001b[0m \u001b[0mtokenizer\u001b[0m\u001b[0;34m.\u001b[0m\u001b[0mtexts_to_sequences\u001b[0m\u001b[0;34m(\u001b[0m\u001b[0mnew_sentences\u001b[0m\u001b[0;34m)\u001b[0m\u001b[0;34m\u001b[0m\u001b[0;34m\u001b[0m\u001b[0m\n\u001b[0m\u001b[1;32m      2\u001b[0m \u001b[0mpadded\u001b[0m \u001b[0;34m=\u001b[0m \u001b[0mpad_sequences\u001b[0m\u001b[0;34m(\u001b[0m\u001b[0msequences\u001b[0m\u001b[0;34m,\u001b[0m \u001b[0mmaxlen\u001b[0m \u001b[0;34m=\u001b[0m \u001b[0;36m15\u001b[0m\u001b[0;34m,\u001b[0m \u001b[0mpadding\u001b[0m \u001b[0;34m=\u001b[0m \u001b[0;34m'post'\u001b[0m\u001b[0;34m)\u001b[0m\u001b[0;34m\u001b[0m\u001b[0;34m\u001b[0m\u001b[0m\n\u001b[1;32m      3\u001b[0m \u001b[0mprint\u001b[0m\u001b[0;34m(\u001b[0m\u001b[0mpadded\u001b[0m\u001b[0;34m[\u001b[0m\u001b[0;36m2\u001b[0m\u001b[0;34m]\u001b[0m\u001b[0;34m)\u001b[0m\u001b[0;34m\u001b[0m\u001b[0;34m\u001b[0m\u001b[0m\n\u001b[1;32m      4\u001b[0m \u001b[0mprint\u001b[0m\u001b[0;34m(\u001b[0m\u001b[0mpadded\u001b[0m\u001b[0;34m.\u001b[0m\u001b[0mshape\u001b[0m\u001b[0;34m)\u001b[0m\u001b[0;34m\u001b[0m\u001b[0;34m\u001b[0m\u001b[0m\n",
      "\u001b[0;31mNameError\u001b[0m: name 'tokenizer' is not defined"
     ]
    }
   ],
   "source": [
    "sequences = tokenizer.texts_to_sequences(new_sentences)\n",
    "padded = pad_sequences(sequences, maxlen = 15, padding = 'post')\n",
    "print(padded[2])\n",
    "print(padded.shape)"
   ]
  },
  {
   "cell_type": "code",
   "execution_count": 12,
   "id": "a89f6633",
   "metadata": {},
   "outputs": [
    {
     "ename": "NameError",
     "evalue": "name 'tokenizer' is not defined",
     "output_type": "error",
     "traceback": [
      "\u001b[0;31m---------------------------------------------------------------------------\u001b[0m",
      "\u001b[0;31mNameError\u001b[0m                                 Traceback (most recent call last)",
      "\u001b[0;32m<ipython-input-12-27e92bb872f7>\u001b[0m in \u001b[0;36m<module>\u001b[0;34m\u001b[0m\n\u001b[1;32m      5\u001b[0m ]\n\u001b[1;32m      6\u001b[0m \u001b[0;34m\u001b[0m\u001b[0m\n\u001b[0;32m----> 7\u001b[0;31m \u001b[0msequences\u001b[0m \u001b[0;34m=\u001b[0m \u001b[0mtokenizer\u001b[0m\u001b[0;34m.\u001b[0m\u001b[0mtexts_to_sequences\u001b[0m\u001b[0;34m(\u001b[0m\u001b[0mtest_data\u001b[0m\u001b[0;34m)\u001b[0m\u001b[0;34m\u001b[0m\u001b[0;34m\u001b[0m\u001b[0m\n\u001b[0m\u001b[1;32m      8\u001b[0m \u001b[0mpadded\u001b[0m \u001b[0;34m=\u001b[0m \u001b[0mpad_sequences\u001b[0m\u001b[0;34m(\u001b[0m\u001b[0msequences\u001b[0m\u001b[0;34m,\u001b[0m \u001b[0mmaxlen\u001b[0m \u001b[0;34m=\u001b[0m \u001b[0;36m15\u001b[0m\u001b[0;34m,\u001b[0m \u001b[0mpadding\u001b[0m \u001b[0;34m=\u001b[0m \u001b[0;34m'post'\u001b[0m\u001b[0;34m)\u001b[0m\u001b[0;34m\u001b[0m\u001b[0;34m\u001b[0m\u001b[0m\n\u001b[1;32m      9\u001b[0m \u001b[0mprint\u001b[0m\u001b[0;34m(\u001b[0m\u001b[0mpadded\u001b[0m\u001b[0;34m)\u001b[0m\u001b[0;34m\u001b[0m\u001b[0;34m\u001b[0m\u001b[0m\n",
      "\u001b[0;31mNameError\u001b[0m: name 'tokenizer' is not defined"
     ]
    }
   ],
   "source": [
    "# Try with words that the tokenizer wasn't fit to\n",
    "test_data = [\n",
    "    'i really love CC subject',\n",
    "    'Do you think BDA and IP are amazing subjects?'\n",
    "]\n",
    "\n",
    "sequences = tokenizer.texts_to_sequences(test_data)\n",
    "padded = pad_sequences(sequences, maxlen = 15, padding = 'post')\n",
    "print(padded)"
   ]
  },
  {
   "cell_type": "markdown",
   "id": "27d4513e",
   "metadata": {},
   "source": [
    "Observations: Unknown tokens were replaced with token index of <OOV>"
   ]
  },
  {
   "cell_type": "code",
   "execution_count": null,
   "id": "139d5510",
   "metadata": {},
   "outputs": [],
   "source": []
  }
 ],
 "metadata": {
  "kernelspec": {
   "display_name": "Python 3",
   "language": "python",
   "name": "python3"
  },
  "language_info": {
   "codemirror_mode": {
    "name": "ipython",
    "version": 3
   },
   "file_extension": ".py",
   "mimetype": "text/x-python",
   "name": "python",
   "nbconvert_exporter": "python",
   "pygments_lexer": "ipython3",
   "version": "3.8.3"
  }
 },
 "nbformat": 4,
 "nbformat_minor": 5
}
