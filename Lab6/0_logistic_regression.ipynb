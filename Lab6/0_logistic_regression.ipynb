{
  "nbformat": 4,
  "nbformat_minor": 0,
  "metadata": {
    "colab": {
      "name": "0_logistic_regression.ipynb",
      "provenance": [],
      "collapsed_sections": []
    },
    "kernelspec": {
      "name": "python3",
      "display_name": "Python 3"
    },
    "language_info": {
      "name": "python"
    }
  },
  "cells": [
    {
      "cell_type": "code",
      "metadata": {
        "id": "MaaFAqzDCt2a"
      },
      "source": [
        "#Importing libraries\n",
        "import numpy as np \n",
        "import pandas as pd \n",
        "import io\n",
        "import matplotlib.pyplot as plt\n",
        "from sklearn.model_selection import train_test_split\n",
        "from sklearn.preprocessing import StandardScaler"
      ],
      "execution_count": 45,
      "outputs": []
    },
    {
      "cell_type": "code",
      "metadata": {
        "colab": {
          "base_uri": "https://localhost:8080/",
          "height": 206
        },
        "id": "O4csx9CVCzTB",
        "outputId": "04024687-b4fd-403c-cc95-6af379618ed6"
      },
      "source": [
        "data = pd.read_csv('BuyComputer.csv')\n",
        "\n",
        "data.drop(columns=['User ID',],axis=1,inplace=True)\n",
        "data.head()"
      ],
      "execution_count": 46,
      "outputs": [
        {
          "output_type": "execute_result",
          "data": {
            "text/html": [
              "<div>\n",
              "<style scoped>\n",
              "    .dataframe tbody tr th:only-of-type {\n",
              "        vertical-align: middle;\n",
              "    }\n",
              "\n",
              "    .dataframe tbody tr th {\n",
              "        vertical-align: top;\n",
              "    }\n",
              "\n",
              "    .dataframe thead th {\n",
              "        text-align: right;\n",
              "    }\n",
              "</style>\n",
              "<table border=\"1\" class=\"dataframe\">\n",
              "  <thead>\n",
              "    <tr style=\"text-align: right;\">\n",
              "      <th></th>\n",
              "      <th>Age</th>\n",
              "      <th>EstimatedSalary</th>\n",
              "      <th>Purchased</th>\n",
              "    </tr>\n",
              "  </thead>\n",
              "  <tbody>\n",
              "    <tr>\n",
              "      <th>0</th>\n",
              "      <td>19</td>\n",
              "      <td>19000</td>\n",
              "      <td>0</td>\n",
              "    </tr>\n",
              "    <tr>\n",
              "      <th>1</th>\n",
              "      <td>35</td>\n",
              "      <td>20000</td>\n",
              "      <td>0</td>\n",
              "    </tr>\n",
              "    <tr>\n",
              "      <th>2</th>\n",
              "      <td>26</td>\n",
              "      <td>43000</td>\n",
              "      <td>0</td>\n",
              "    </tr>\n",
              "    <tr>\n",
              "      <th>3</th>\n",
              "      <td>27</td>\n",
              "      <td>57000</td>\n",
              "      <td>0</td>\n",
              "    </tr>\n",
              "    <tr>\n",
              "      <th>4</th>\n",
              "      <td>19</td>\n",
              "      <td>76000</td>\n",
              "      <td>0</td>\n",
              "    </tr>\n",
              "  </tbody>\n",
              "</table>\n",
              "</div>"
            ],
            "text/plain": [
              "   Age  EstimatedSalary  Purchased\n",
              "0   19            19000          0\n",
              "1   35            20000          0\n",
              "2   26            43000          0\n",
              "3   27            57000          0\n",
              "4   19            76000          0"
            ]
          },
          "metadata": {},
          "execution_count": 46
        }
      ]
    },
    {
      "cell_type": "code",
      "metadata": {
        "colab": {
          "base_uri": "https://localhost:8080/"
        },
        "id": "_jtN_dQ_C-iJ",
        "outputId": "9eb644a0-8f36-4a02-89db-15dde4550333"
      },
      "source": [
        "#Declare label as last column in the source file\n",
        "label = data.iloc[:,-1].values\n",
        "label"
      ],
      "execution_count": 47,
      "outputs": [
        {
          "output_type": "execute_result",
          "data": {
            "text/plain": [
              "array([0, 0, 0, 0, 0, 0, 0, 1, 0, 0, 0, 0, 0, 0, 0, 0, 1, 1, 1, 1, 1, 1,\n",
              "       1, 1, 1, 1, 1, 1, 0, 0, 0, 1, 0, 0, 0, 0, 0, 0, 0, 0, 0, 0, 0, 0,\n",
              "       0, 0, 0, 0, 1, 0, 0, 0, 0, 0, 0, 0, 0, 0, 0, 0, 0, 0, 0, 1, 0, 0,\n",
              "       0, 0, 0, 0, 0, 0, 0, 0, 0, 1, 0, 0, 0, 0, 0, 0, 0, 0, 0, 1, 0, 0,\n",
              "       0, 0, 0, 0, 0, 0, 0, 0, 0, 1, 0, 0, 0, 0, 0, 1, 0, 0, 0, 0, 0, 0,\n",
              "       0, 0, 0, 0, 0, 0, 0, 0, 0, 0, 0, 0, 0, 0, 0, 0, 0, 0, 0, 0, 0, 0,\n",
              "       0, 0, 0, 0, 0, 1, 0, 0, 0, 0, 0, 0, 0, 0, 1, 0, 0, 0, 0, 0, 0, 0,\n",
              "       0, 0, 0, 0, 0, 1, 1, 0, 0, 0, 0, 0, 0, 0, 1, 0, 0, 0, 0, 0, 0, 0,\n",
              "       0, 0, 0, 0, 0, 0, 1, 0, 0, 0, 0, 0, 0, 0, 0, 0, 0, 0, 0, 0, 0, 0,\n",
              "       0, 0, 0, 0, 1, 0, 1, 0, 1, 0, 1, 0, 1, 1, 0, 0, 0, 1, 0, 0, 0, 1,\n",
              "       0, 1, 1, 1, 0, 0, 1, 1, 0, 1, 1, 0, 1, 1, 0, 1, 0, 0, 0, 1, 1, 0,\n",
              "       1, 1, 0, 1, 0, 1, 0, 1, 0, 0, 1, 1, 0, 1, 0, 0, 1, 1, 0, 1, 1, 0,\n",
              "       1, 1, 0, 0, 1, 0, 0, 1, 1, 1, 1, 1, 0, 1, 1, 1, 1, 0, 1, 1, 0, 1,\n",
              "       0, 1, 0, 1, 1, 1, 1, 0, 0, 0, 1, 1, 0, 1, 1, 1, 1, 1, 0, 0, 0, 1,\n",
              "       1, 0, 0, 1, 0, 1, 0, 1, 1, 0, 1, 0, 1, 1, 0, 1, 1, 0, 0, 0, 1, 1,\n",
              "       0, 1, 0, 0, 1, 0, 1, 0, 0, 1, 1, 0, 0, 1, 1, 0, 1, 1, 0, 0, 1, 0,\n",
              "       1, 0, 1, 1, 1, 0, 1, 0, 1, 1, 1, 0, 1, 1, 1, 1, 0, 1, 1, 1, 0, 1,\n",
              "       0, 1, 0, 0, 1, 1, 0, 1, 1, 1, 1, 1, 1, 0, 1, 1, 1, 1, 1, 1, 0, 1,\n",
              "       1, 1, 0, 1])"
            ]
          },
          "metadata": {},
          "execution_count": 47
        }
      ]
    },
    {
      "cell_type": "code",
      "metadata": {
        "id": "-v6uoopLDCkI"
      },
      "source": [
        "#Declaring X as all columns excluding last\n",
        "X = data.iloc[:,:-1].values"
      ],
      "execution_count": 48,
      "outputs": []
    },
    {
      "cell_type": "code",
      "metadata": {
        "id": "MjPrB0mIDGxn"
      },
      "source": [
        "# Splitting data\n",
        "X_train, X_test, y_train, y_test = train_test_split(X, label, test_size = 0.30, random_state = 108)"
      ],
      "execution_count": 49,
      "outputs": []
    },
    {
      "cell_type": "code",
      "metadata": {
        "id": "Wuy4VtNQDMHx"
      },
      "source": [
        "sc = StandardScaler()\n",
        "X_train = sc.fit_transform(X_train)\n",
        "X_test = sc.transform(X_test)"
      ],
      "execution_count": 50,
      "outputs": []
    },
    {
      "cell_type": "code",
      "metadata": {
        "colab": {
          "base_uri": "https://localhost:8080/"
        },
        "id": "EG2-0e9sDXW-",
        "outputId": "eec2be74-e5c1-4298-9ed9-919a35c69f2c"
      },
      "source": [
        "#Variabes to calculate sigmoid function\n",
        "y_pred = []\n",
        "len_x = len(X_train[0])\n",
        "w = []\n",
        "b = 0.2\n",
        "print(len_x)"
      ],
      "execution_count": 51,
      "outputs": [
        {
          "output_type": "stream",
          "name": "stdout",
          "text": [
            "2\n"
          ]
        }
      ]
    },
    {
      "cell_type": "code",
      "metadata": {
        "colab": {
          "base_uri": "https://localhost:8080/"
        },
        "id": "km-XzkicDbD1",
        "outputId": "429c5efa-ddba-4b55-cf4c-b540a094628e"
      },
      "source": [
        "entries = len(X_train[:,0])\n",
        "entries"
      ],
      "execution_count": 52,
      "outputs": [
        {
          "output_type": "execute_result",
          "data": {
            "text/plain": [
              "280"
            ]
          },
          "metadata": {},
          "execution_count": 52
        }
      ]
    },
    {
      "cell_type": "code",
      "metadata": {
        "colab": {
          "base_uri": "https://localhost:8080/"
        },
        "id": "gmek2gEYDdTQ",
        "outputId": "f6be615d-9ab2-4ab3-82d4-8b4072d1aaf7"
      },
      "source": [
        "for weights in range(len_x):\n",
        "    w.append(0)\n",
        "w"
      ],
      "execution_count": 53,
      "outputs": [
        {
          "output_type": "execute_result",
          "data": {
            "text/plain": [
              "[0, 0]"
            ]
          },
          "metadata": {},
          "execution_count": 53
        }
      ]
    },
    {
      "cell_type": "code",
      "metadata": {
        "id": "iry5RnjhDfOD"
      },
      "source": [
        "# Sigmoid function\n",
        "def sigmoid(z):\n",
        "  return (1 / (1 + np.exp(-z)))"
      ],
      "execution_count": 54,
      "outputs": []
    },
    {
      "cell_type": "code",
      "metadata": {
        "id": "1_GhQQGqDheJ"
      },
      "source": [
        "def predict(inputs):\n",
        "    z = np.dot(w,inputs) + b\n",
        "    temp = sigmoid(z)\n",
        "    return temp"
      ],
      "execution_count": 55,
      "outputs": []
    },
    {
      "cell_type": "code",
      "metadata": {
        "id": "OrfR1qHRDjRf"
      },
      "source": [
        "#Loss function\n",
        "def loss_func(y,a):\n",
        "    J = -(y * np.log(a) + (1-y) * np.log(1-a))\n",
        "    return J"
      ],
      "execution_count": 56,
      "outputs": []
    },
    {
      "cell_type": "code",
      "metadata": {
        "id": "IeivQiwwDlKm"
      },
      "source": [
        "dw = []\n",
        "db = 0\n",
        "J = 0\n",
        "alpha = 0.1\n",
        "for x in range(len_x):\n",
        "    dw.append(0)"
      ],
      "execution_count": 57,
      "outputs": []
    },
    {
      "cell_type": "code",
      "metadata": {
        "id": "8uD3z59tDnQR"
      },
      "source": [
        "#Repeating the process 3000 times\n",
        "for iterations in range(3000):\n",
        "    for i in range(entries):\n",
        "        localx = X_train[i]\n",
        "        a = predict(localx)   \n",
        "        dz = a - y_train[i]\n",
        "        J += loss_func(y_train[i],a)\n",
        "\n",
        "        for j in range(len_x):\n",
        "            dw[j] = dw[j] + (localx[j] * dz)\n",
        "\n",
        "        db += dz\n",
        "    J = J / entries\n",
        "    db = db / entries\n",
        "\n",
        "    for x in range(len_x):\n",
        "        dw[x] = dw[x] / entries\n",
        "\n",
        "    for x in range(len_x):\n",
        "        w[x] = w[x] - (alpha * dw[x])\n",
        "    b = b - (alpha * db)         \n",
        "    J=0"
      ],
      "execution_count": 58,
      "outputs": []
    },
    {
      "cell_type": "code",
      "metadata": {
        "colab": {
          "base_uri": "https://localhost:8080/"
        },
        "id": "Q_T-zO9ODpd4",
        "outputId": "ba47c4e9-9bee-44ea-8a0b-3b9e82cf1132"
      },
      "source": [
        "#Print weight\n",
        "w"
      ],
      "execution_count": 59,
      "outputs": [
        {
          "output_type": "execute_result",
          "data": {
            "text/plain": [
              "[2.293054806538319, 0.9974342727071461]"
            ]
          },
          "metadata": {},
          "execution_count": 59
        }
      ]
    },
    {
      "cell_type": "code",
      "metadata": {
        "colab": {
          "base_uri": "https://localhost:8080/"
        },
        "id": "_G0iKXflDrKl",
        "outputId": "8ea59d51-32c3-4178-95b2-a3b4e7000d71"
      },
      "source": [
        "#print bias\n",
        "b"
      ],
      "execution_count": 60,
      "outputs": [
        {
          "output_type": "execute_result",
          "data": {
            "text/plain": [
              "-1.1538118284684302"
            ]
          },
          "metadata": {},
          "execution_count": 60
        }
      ]
    },
    {
      "cell_type": "code",
      "metadata": {
        "id": "JnXtJP9YDyJ4"
      },
      "source": [
        "#predicting the label\n",
        "for x in range(len(y_test)):\n",
        "    y_pred.append(predict(X_test[x]))"
      ],
      "execution_count": 61,
      "outputs": []
    },
    {
      "cell_type": "code",
      "metadata": {
        "colab": {
          "base_uri": "https://localhost:8080/"
        },
        "id": "xlGrFnx3D0eV",
        "outputId": "9bd5e1c6-8c5b-4d1e-a4fa-0b525c7ec310"
      },
      "source": [
        "#print actual and predicted values in a table\n",
        "print(\"Actual\\t\\tPredicted\")\n",
        "for x in range(len(y_pred)):\n",
        "    print(y_test[x] ,y_pred[x], sep=\"\\t\\t\")\n",
        "    if y_pred[x]>=0.5:\n",
        "        y_pred[x]=1\n",
        "    else:\n",
        "        y_pred[x]=0"
      ],
      "execution_count": 62,
      "outputs": [
        {
          "output_type": "stream",
          "name": "stdout",
          "text": [
            "Actual\t\tPredicted\n",
            "0\t\t0.0071742163745272085\n",
            "0\t\t0.1709968020721025\n",
            "0\t\t0.03804127223656959\n",
            "0\t\t0.010986307216458654\n",
            "0\t\t0.05131240252153947\n",
            "1\t\t0.7241369756789898\n",
            "0\t\t0.026307859301019865\n",
            "0\t\t0.24093843203809007\n",
            "0\t\t0.0038479197317738655\n",
            "1\t\t0.5206756453344267\n",
            "0\t\t0.3476210760689372\n",
            "0\t\t0.23036962540512793\n",
            "0\t\t0.24260496524352268\n",
            "1\t\t0.9590067387961518\n",
            "0\t\t0.084798438483619\n",
            "1\t\t0.2884999245418836\n",
            "1\t\t0.9259926624107272\n",
            "0\t\t0.0026845308506358197\n",
            "1\t\t0.7352011503534269\n",
            "0\t\t0.06884863027761842\n",
            "0\t\t0.2574020107757971\n",
            "1\t\t0.26305040764827115\n",
            "1\t\t0.955058383051826\n",
            "0\t\t0.14632485004626622\n",
            "1\t\t0.6684092077030518\n",
            "1\t\t0.515748807730023\n",
            "1\t\t0.2967763697110374\n",
            "0\t\t0.016614947372963193\n",
            "1\t\t0.9818947175498223\n",
            "0\t\t0.01186579983607938\n",
            "0\t\t0.28230490262086083\n",
            "0\t\t0.08550663510697565\n",
            "0\t\t0.09783501140812537\n",
            "1\t\t0.9457591716767414\n",
            "0\t\t0.29666842968758744\n",
            "0\t\t0.5454870705424402\n",
            "1\t\t0.614376487622125\n",
            "0\t\t0.010273780805674607\n",
            "0\t\t0.008133452622346233\n",
            "0\t\t0.06645729556618463\n",
            "1\t\t0.5979515386631578\n",
            "0\t\t0.10393405607456485\n",
            "1\t\t0.5740192115253111\n",
            "0\t\t0.059535855367927645\n",
            "0\t\t0.11947382357147715\n",
            "0\t\t0.5859734115527745\n",
            "1\t\t0.8867801917466299\n",
            "0\t\t0.672426607377915\n",
            "1\t\t0.9946518421676607\n",
            "0\t\t0.41429962560402717\n",
            "1\t\t0.5258564075068156\n",
            "1\t\t0.7785886733191395\n",
            "1\t\t0.951569857915172\n",
            "0\t\t0.015396769660796355\n",
            "0\t\t0.6829196359964003\n",
            "0\t\t0.05791403935069764\n",
            "0\t\t0.6872884518791573\n",
            "0\t\t0.3172120477623531\n",
            "0\t\t0.019401200081603256\n",
            "0\t\t0.009055139650150546\n",
            "0\t\t0.2763981258379927\n",
            "0\t\t0.005408341317560003\n",
            "0\t\t0.04721599393085026\n",
            "0\t\t0.3519916556625983\n",
            "1\t\t0.716078391548639\n",
            "1\t\t0.9708328318407624\n",
            "0\t\t0.01511584931575312\n",
            "0\t\t0.037037269910265236\n",
            "1\t\t0.48200371817886456\n",
            "1\t\t0.3928664262236855\n",
            "1\t\t0.5036143691703374\n",
            "0\t\t0.15639439924521367\n",
            "1\t\t0.29466753911261456\n",
            "0\t\t0.04942482358719797\n",
            "0\t\t0.3589510752459282\n",
            "0\t\t0.11141611011368782\n",
            "1\t\t0.43083526124091365\n",
            "0\t\t0.0018524393630162262\n",
            "1\t\t0.666161200289876\n",
            "0\t\t0.22520852263767568\n",
            "0\t\t0.16702132304449557\n",
            "0\t\t0.05281142545383408\n",
            "0\t\t0.0018347584544715634\n",
            "0\t\t0.3386094395658418\n",
            "0\t\t0.11237090580625464\n",
            "1\t\t0.9323788714903088\n",
            "1\t\t0.9896555020408735\n",
            "1\t\t0.8953702127003818\n",
            "0\t\t0.007536227348937699\n",
            "1\t\t0.9056898084762924\n",
            "1\t\t0.15653093626049328\n",
            "0\t\t0.011538440752324861\n",
            "1\t\t0.16181268863386988\n",
            "0\t\t0.3194091573404622\n",
            "0\t\t0.05180755024278774\n",
            "0\t\t0.05429858449131098\n",
            "1\t\t0.8656460189893959\n",
            "0\t\t0.10031542377773353\n",
            "0\t\t0.3088365841478401\n",
            "1\t\t0.7122613471951454\n",
            "0\t\t0.050409736626043165\n",
            "1\t\t0.5018589387746102\n",
            "0\t\t0.022598191256486825\n",
            "1\t\t0.5787112185965249\n",
            "0\t\t0.06347662567764924\n",
            "1\t\t0.2687778902607627\n",
            "0\t\t0.16290835908571627\n",
            "0\t\t0.21182082265403787\n",
            "1\t\t0.9854989166940874\n",
            "1\t\t0.3630258541705889\n",
            "1\t\t0.39057702519690707\n",
            "0\t\t0.47215792525891137\n",
            "0\t\t0.40488079586994\n",
            "0\t\t0.3610456243442165\n",
            "1\t\t0.8776924560128625\n",
            "0\t\t0.04297035107254005\n",
            "0\t\t0.41429962560402717\n",
            "1\t\t0.5481244307835823\n",
            "0\t\t0.02051850008884155\n",
            "0\t\t0.45266687650297943\n"
          ]
        }
      ]
    },
    {
      "cell_type": "code",
      "metadata": {
        "colab": {
          "base_uri": "https://localhost:8080/"
        },
        "id": "-VHo2CTaD2ry",
        "outputId": "f3ce0c98-fbb1-4377-a5fa-e66942fd9fb8"
      },
      "source": [
        "# Calculating accuracy of prediction\n",
        "count = 0\n",
        "for x in range(len(y_pred)):\n",
        "    if(y_pred[x] == y_test[x]):\n",
        "        count += 1\n",
        "\n",
        "print('Accuracy:',(count / (len(y_pred))) * 100)"
      ],
      "execution_count": 63,
      "outputs": [
        {
          "output_type": "stream",
          "name": "stdout",
          "text": [
            "Accuracy: 85.83333333333333\n"
          ]
        }
      ]
    },
    {
      "cell_type": "markdown",
      "metadata": {
        "id": "tvL15v-fEADi"
      },
      "source": [
        "### Using sklearn LogisticRegression model"
      ]
    },
    {
      "cell_type": "code",
      "metadata": {
        "colab": {
          "base_uri": "https://localhost:8080/"
        },
        "id": "aSaVvI-QD6PQ",
        "outputId": "af27a123-06a9-4cac-e500-00462a723baa"
      },
      "source": [
        "# Fitting Logistic Regression to the Training set\n",
        "from sklearn.linear_model import LogisticRegression\n",
        "LR = LogisticRegression(random_state = 108) \n",
        "#Fit\n",
        "LR.fit(X_train,y_train)\n",
        "\n",
        "#predicting the test label with LR. Predict always takes X as input\n",
        "y_predict = LR.predict(X_test)\n",
        "\n",
        "from sklearn.metrics import accuracy_score\n",
        "print('Accuracy:', accuracy_score(y_predict,y_test))"
      ],
      "execution_count": 64,
      "outputs": [
        {
          "output_type": "stream",
          "name": "stdout",
          "text": [
            "Accuracy: 0.8416666666666667\n"
          ]
        }
      ]
    }
  ]
}