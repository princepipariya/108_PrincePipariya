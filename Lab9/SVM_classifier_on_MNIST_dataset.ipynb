{
  "nbformat": 4,
  "nbformat_minor": 0,
  "metadata": {
    "colab": {
      "name": "SVM_classifier_on_MNIST_dataset.ipynb",
      "provenance": []
    },
    "kernelspec": {
      "name": "python3",
      "display_name": "Python 3"
    },
    "language_info": {
      "name": "python"
    }
  },
  "cells": [
    {
      "cell_type": "markdown",
      "metadata": {
        "id": "lrNBIdx2R0rB"
      },
      "source": [
        "## SVM classifier on MNIST dataset, compare the preformance of linear, polynomial and RBF kernels."
      ]
    },
    {
      "cell_type": "code",
      "metadata": {
        "id": "iGTvxY3YQnjW"
      },
      "source": [
        "import sys, os\n",
        "import matplotlib.pyplot as plt\n",
        "from sklearn import svm\n",
        "from sklearn.model_selection import train_test_split\n",
        "import numpy as np"
      ],
      "execution_count": 17,
      "outputs": []
    },
    {
      "cell_type": "code",
      "metadata": {
        "id": "ob6fNQC6R4mw"
      },
      "source": [
        "from sklearn.datasets import load_digits\n",
        "\n",
        "digits = load_digits()\n",
        "\n",
        "X_train, X_test, y_train, y_test = train_test_split(digits.data, digits.target, test_size = 0.3, train_size = 0.2 ,random_state = 108)"
      ],
      "execution_count": 18,
      "outputs": []
    },
    {
      "cell_type": "markdown",
      "metadata": {
        "id": "bm405gryR92M"
      },
      "source": [
        "### Linear model"
      ]
    },
    {
      "cell_type": "code",
      "metadata": {
        "id": "t_rpvFGFR7nL"
      },
      "source": [
        "linear_clf = svm.SVC(kernel='linear')\n",
        "linear_clf.fit(X_train, y_train)\n",
        "\n",
        "# predict\n",
        "y_pred = linear_clf.predict(X_test)"
      ],
      "execution_count": 19,
      "outputs": []
    },
    {
      "cell_type": "code",
      "metadata": {
        "colab": {
          "base_uri": "https://localhost:8080/"
        },
        "id": "dhIWGFDaSAoK",
        "outputId": "709d185d-af3e-4604-9a82-1fc0be0be65e"
      },
      "source": [
        "from sklearn import metrics\n",
        "\n",
        "# accuracy\n",
        "print(\"accuracy:\", metrics.accuracy_score(y_true=y_test, y_pred=y_pred), \"\\n\")"
      ],
      "execution_count": 20,
      "outputs": [
        {
          "output_type": "stream",
          "name": "stdout",
          "text": [
            "accuracy: 0.9685185185185186 \n",
            "\n"
          ]
        }
      ]
    },
    {
      "cell_type": "markdown",
      "metadata": {
        "id": "-7NxMZq9SE8v"
      },
      "source": [
        "### Polynomial model"
      ]
    },
    {
      "cell_type": "code",
      "metadata": {
        "id": "gvhv5HxRSClo"
      },
      "source": [
        "poly_clf = svm.SVC(kernel='poly')\n",
        "poly_clf.fit(X_train, y_train)\n",
        "\n",
        "# predict\n",
        "y_pred = poly_clf.predict(X_test)"
      ],
      "execution_count": 21,
      "outputs": []
    },
    {
      "cell_type": "code",
      "metadata": {
        "colab": {
          "base_uri": "https://localhost:8080/"
        },
        "id": "YSd06p4rSGv2",
        "outputId": "3fbaa9a4-7a46-4f54-bc7b-8088e8598048"
      },
      "source": [
        "# accuracy\n",
        "print(\"accuracy:\", metrics.accuracy_score(y_true=y_test, y_pred=y_pred), \"\\n\")"
      ],
      "execution_count": 22,
      "outputs": [
        {
          "output_type": "stream",
          "name": "stdout",
          "text": [
            "accuracy: 0.9703703703703703 \n",
            "\n"
          ]
        }
      ]
    },
    {
      "cell_type": "markdown",
      "metadata": {
        "id": "qkLPFTqHSK1E"
      },
      "source": [
        "### RBF model"
      ]
    },
    {
      "cell_type": "code",
      "metadata": {
        "id": "Fi13fCBTSIeL"
      },
      "source": [
        "rbf_clf = svm.SVC(kernel='rbf')\n",
        "rbf_clf.fit(X_train, y_train)\n",
        "\n",
        "# predict\n",
        "y_pred = rbf_clf.predict(X_test)"
      ],
      "execution_count": 23,
      "outputs": []
    },
    {
      "cell_type": "code",
      "metadata": {
        "colab": {
          "base_uri": "https://localhost:8080/"
        },
        "id": "Xja13JUASNV_",
        "outputId": "9f2fb8a3-e826-4fa9-85d7-aa411c62e452"
      },
      "source": [
        "# accuracy\n",
        "print(\"accuracy:\", metrics.accuracy_score(y_true=y_test, y_pred=y_pred), \"\\n\")"
      ],
      "execution_count": 24,
      "outputs": [
        {
          "output_type": "stream",
          "name": "stdout",
          "text": [
            "accuracy: 0.9574074074074074 \n",
            "\n"
          ]
        }
      ]
    }
  ]
}