{
  "nbformat": 4,
  "nbformat_minor": 0,
  "metadata": {
    "colab": {
      "name": "Linear_regression_numpy.ipynb",
      "provenance": [],
      "collapsed_sections": []
    },
    "kernelspec": {
      "name": "python3",
      "display_name": "Python 3"
    },
    "language_info": {
      "name": "python"
    }
  },
  "cells": [
    {
      "cell_type": "code",
      "metadata": {
        "id": "GKbqif_Z7orz"
      },
      "source": [
        "import numpy as np"
      ],
      "execution_count": 49,
      "outputs": []
    },
    {
      "cell_type": "markdown",
      "metadata": {
        "id": "UaPpI5kZ79dt"
      },
      "source": [
        "## Training Data"
      ]
    },
    {
      "cell_type": "code",
      "metadata": {
        "id": "zfOMen3x74ro"
      },
      "source": [
        "# Input (temp, rainfall, humidity)\n",
        "inputs = np.array([[73, 67, 43], [91, 88, 64], [87, 134, 58], [102, 43, 37], [69, 96, 70], [73, 67, 43], [91, 88, 64], [87, 134, 58], [102, 43, 37], [69, 96, 70], [73, 67, 43], [91, 88, 64], [87, 134, 58], [102, 43, 37], [69, 96, 70]], dtype='float32')\n",
        "# Targets (apples, oranges)\n",
        "targets = np.array([[56, 70], [81, 101], [119, 133], [22, 37], [103, 119], \n",
        "                    [56, 70], [81, 101], [119, 133], [22, 37], [103, 119], \n",
        "                    [56, 70], [81, 101], [119, 133], [22, 37], [103, 119]], dtype='float32')\n",
        "\n",
        "x_shape = inputs.shape"
      ],
      "execution_count": 50,
      "outputs": []
    },
    {
      "cell_type": "code",
      "metadata": {
        "colab": {
          "base_uri": "https://localhost:8080/"
        },
        "id": "gIaC21O28aWh",
        "outputId": "9158bf6d-7f6a-4d5b-8b7a-258f5238256d"
      },
      "source": [
        "# weights and biases\n",
        "weights = np.random.rand(2,3)\n",
        "biases = np.random.rand(15,2)\n",
        "print(weights)\n",
        "print(biases)"
      ],
      "execution_count": 51,
      "outputs": [
        {
          "output_type": "stream",
          "name": "stdout",
          "text": [
            "[[0.14544877 0.4390103  0.25835721]\n",
            " [0.6306312  0.94404226 0.14858401]]\n",
            "[[0.79254473 0.14323292]\n",
            " [0.19046435 0.17816994]\n",
            " [0.10598733 0.92188677]\n",
            " [0.05561651 0.29645006]\n",
            " [0.76336357 0.84731302]\n",
            " [0.68139182 0.19710236]\n",
            " [0.41822654 0.0598285 ]\n",
            " [0.49824056 0.25297827]\n",
            " [0.32849164 0.45982164]\n",
            " [0.96613746 0.04014367]\n",
            " [0.14025851 0.33107504]\n",
            " [0.94123872 0.44076107]\n",
            " [0.68265475 0.29301975]\n",
            " [0.9927745  0.8207609 ]\n",
            " [0.24198929 0.71370407]]\n"
          ]
        }
      ]
    },
    {
      "cell_type": "code",
      "metadata": {
        "id": "vjei7mVz8dDG"
      },
      "source": [
        "# Define the model\n",
        "def model(x):\n",
        "    return x @ np.transpose(weights) + biases"
      ],
      "execution_count": 52,
      "outputs": []
    },
    {
      "cell_type": "code",
      "metadata": {
        "id": "o6gFUeH98n0F"
      },
      "source": [
        "# Generate predictions\n",
        "preds = model(inputs)"
      ],
      "execution_count": 53,
      "outputs": []
    },
    {
      "cell_type": "code",
      "metadata": {
        "colab": {
          "base_uri": "https://localhost:8080/"
        },
        "id": "Z43s-AMI8sJg",
        "outputId": "78462891-f2f0-4991-d690-405a427cb2a2"
      },
      "source": [
        "# Compare with targets\n",
        "print(\"Predictions : \", preds)\n",
        "print(\"Targets : \",targets)"
      ],
      "execution_count": 54,
      "outputs": [
        {
          "output_type": "stream",
          "name": "stdout",
          "text": [
            "Predictions :  [[ 51.93335511 115.81925398]\n",
            " [ 68.59407034 150.15070417]\n",
            " [ 86.57212861 190.90633596]\n",
            " [ 43.32805085 110.71225763]\n",
            " [ 71.02932226 145.38980301]\n",
            " [ 51.82220221 115.87312342]\n",
            " [ 68.82183253 150.03236273]\n",
            " [ 86.96438184 190.23742747]\n",
            " [ 43.60092598 110.87562921]\n",
            " [ 71.23209615 144.58263366]\n",
            " [ 51.28106889 116.00709611]\n",
            " [ 69.34484472 150.41329529]\n",
            " [ 87.14879603 190.27746895]\n",
            " [ 44.26520884 111.23656847]\n",
            " [ 70.50794798 145.25619405]]\n",
            "Targets :  [[ 56.  70.]\n",
            " [ 81. 101.]\n",
            " [119. 133.]\n",
            " [ 22.  37.]\n",
            " [103. 119.]\n",
            " [ 56.  70.]\n",
            " [ 81. 101.]\n",
            " [119. 133.]\n",
            " [ 22.  37.]\n",
            " [103. 119.]\n",
            " [ 56.  70.]\n",
            " [ 81. 101.]\n",
            " [119. 133.]\n",
            " [ 22.  37.]\n",
            " [103. 119.]]\n"
          ]
        }
      ]
    },
    {
      "cell_type": "markdown",
      "metadata": {
        "id": "YjVhpV5y8u3J"
      },
      "source": [
        "## Loss function"
      ]
    },
    {
      "cell_type": "code",
      "metadata": {
        "id": "wGCS7lbO8v19"
      },
      "source": [
        "# MSE loss\n",
        "def mse(t1, t2):\n",
        "    diff = t1 - t2\n",
        "    return np.sum(diff * diff) / len(diff)"
      ],
      "execution_count": 55,
      "outputs": []
    },
    {
      "cell_type": "code",
      "metadata": {
        "colab": {
          "base_uri": "https://localhost:8080/"
        },
        "id": "L5QS44bR8x94",
        "outputId": "e50e1087-5051-48c8-a7d1-562a6d34ca4d"
      },
      "source": [
        "# Compute loss\n",
        "loss = mse(preds, targets)\n",
        "print(loss)"
      ],
      "execution_count": 56,
      "outputs": [
        {
          "output_type": "stream",
          "name": "stdout",
          "text": [
            "3335.0276586496957\n"
          ]
        }
      ]
    },
    {
      "cell_type": "markdown",
      "metadata": {
        "id": "IFooMvTI82SN"
      },
      "source": [
        "## Compute Gradient"
      ]
    },
    {
      "cell_type": "code",
      "metadata": {
        "colab": {
          "base_uri": "https://localhost:8080/"
        },
        "id": "eaLgaZuv8zwg",
        "outputId": "00bb4985-fc3a-4fe5-c052-c677f2807d78"
      },
      "source": [
        "# compute gradients\n",
        "biases_grad = (preds-targets)*2/x_shape[0]\n",
        "weights_grad = (np.matmul(np.transpose((preds-targets)),inputs))*2/x_shape[0]\n",
        "\n",
        "print(weights_grad)\n",
        "print(biases_grad)"
      ],
      "execution_count": 57,
      "outputs": [
        {
          "output_type": "stream",
          "name": "stdout",
          "text": [
            "[[-1681.81111616 -3119.80800383 -1704.92652443]\n",
            " [ 8867.71302719  8315.62531524  5206.82466879]]\n",
            "[[-0.54221932  6.10923386]\n",
            " [-1.65412395  6.55342722]\n",
            " [-4.32371619  7.7208448 ]\n",
            " [ 2.84374011  9.82830102]\n",
            " [-4.26275703  3.5186404 ]\n",
            " [-0.55703971  6.11641646]\n",
            " [-1.62375566  6.53764836]\n",
            " [-4.27141575  7.631657  ]\n",
            " [ 2.88012346  9.85008389]\n",
            " [-4.23572051  3.41101782]\n",
            " [-0.62919081  6.13427948]\n",
            " [-1.5540207   6.58843937]\n",
            " [-4.2468272   7.63699586]\n",
            " [ 2.96869451  9.89820913]\n",
            " [-4.3322736   3.50082587]]\n"
          ]
        }
      ]
    },
    {
      "cell_type": "markdown",
      "metadata": {
        "id": "8s6XmueF894P"
      },
      "source": [
        "## Adjust weights"
      ]
    },
    {
      "cell_type": "code",
      "metadata": {
        "id": "ZdbE69ee85zu"
      },
      "source": [
        "# Adjust weights\n",
        "weights -= weights_grad * 1e-5\n",
        "biases -= biases_grad * 1e-5"
      ],
      "execution_count": 58,
      "outputs": []
    },
    {
      "cell_type": "code",
      "metadata": {
        "colab": {
          "base_uri": "https://localhost:8080/"
        },
        "id": "r86xC7479AfC",
        "outputId": "bacaaa94-9b55-48a7-9577-1b5c1550f6d0"
      },
      "source": [
        "print(weights)\n",
        "print(biases)"
      ],
      "execution_count": 59,
      "outputs": [
        {
          "output_type": "stream",
          "name": "stdout",
          "text": [
            "[[0.16226688 0.47020838 0.27540648]\n",
            " [0.54195407 0.860886   0.09651576]]\n",
            "[[0.79255015 0.14317182]\n",
            " [0.19048089 0.17810441]\n",
            " [0.10603057 0.92180956]\n",
            " [0.05558807 0.29635178]\n",
            " [0.7634062  0.84727784]\n",
            " [0.68139739 0.19704119]\n",
            " [0.41824278 0.05976313]\n",
            " [0.49828328 0.25290195]\n",
            " [0.32846284 0.45972314]\n",
            " [0.96617982 0.04010956]\n",
            " [0.1402648  0.3310137 ]\n",
            " [0.94125426 0.44069518]\n",
            " [0.68269722 0.29294338]\n",
            " [0.99274482 0.82066191]\n",
            " [0.24203261 0.71366906]]\n"
          ]
        }
      ]
    },
    {
      "cell_type": "code",
      "metadata": {
        "colab": {
          "base_uri": "https://localhost:8080/"
        },
        "id": "ckLDLWvD9B_b",
        "outputId": "6d425a41-9dcc-4b0b-8420-79d1d9a5fdc1"
      },
      "source": [
        "# Calculate loss\n",
        "preds = model(inputs)\n",
        "loss = mse(preds, targets)\n",
        "print(loss)"
      ],
      "execution_count": 60,
      "outputs": [
        {
          "output_type": "stream",
          "name": "stdout",
          "text": [
            "1769.5819662241488\n"
          ]
        }
      ]
    },
    {
      "cell_type": "code",
      "metadata": {
        "id": "Gi-vfBpA9EOA"
      },
      "source": [
        "for i in range(200):\n",
        "    preds = model(inputs)\n",
        "    loss = mse(preds, targets)\n",
        "    \n",
        "    biases_grad = ((((inputs@np.transpose(weights))+biases)-targets))*2/x_shape[0]\n",
        "    weights_grad = (np.matmul(np.transpose((((inputs@np.transpose(weights))+biases)-targets)),inputs))*2/x_shape[0]\n",
        "\n",
        "    weights -= weights_grad * 1e-5\n",
        "    biases -= biases_grad * 1e-5"
      ],
      "execution_count": 61,
      "outputs": []
    },
    {
      "cell_type": "code",
      "metadata": {
        "colab": {
          "base_uri": "https://localhost:8080/"
        },
        "id": "w6EpVauJ9GRh",
        "outputId": "45f49fd3-fd0e-4ca3-d350-befeaeb64b6c"
      },
      "source": [
        "# Calculate loss\n",
        "preds = model(inputs)\n",
        "loss = mse(preds, targets)\n",
        "print(loss)"
      ],
      "execution_count": 62,
      "outputs": [
        {
          "output_type": "stream",
          "name": "stdout",
          "text": [
            "49.884618119113235\n"
          ]
        }
      ]
    },
    {
      "cell_type": "code",
      "metadata": {
        "colab": {
          "base_uri": "https://localhost:8080/"
        },
        "id": "JpS-HgHl9IBO",
        "outputId": "be0505f8-e955-4ede-b872-e9068c0fca4b"
      },
      "source": [
        "# Print predictions\n",
        "print(preds)"
      ],
      "execution_count": 63,
      "outputs": [
        {
          "output_type": "stream",
          "name": "stdout",
          "text": [
            "[[ 58.16835032  71.05053273]\n",
            " [ 80.46333633  96.28420929]\n",
            " [120.33357033 141.32539508]\n",
            " [ 24.15933448  41.85531162]\n",
            " [ 97.73908044 109.53604635]\n",
            " [ 58.05722719  71.10438773]\n",
            " [ 80.69103748  96.16589956]\n",
            " [120.72571846 140.65666583]\n",
            " [ 24.43213649  42.01863942]\n",
            " [ 97.94179999 108.72909329]\n",
            " [ 57.51623889  71.23832452]\n",
            " [ 81.21390952  96.54673005]\n",
            " [120.91008323 140.69669658]\n",
            " [ 25.09624135  42.37948196]\n",
            " [ 97.21784587 109.40247319]]\n"
          ]
        }
      ]
    },
    {
      "cell_type": "code",
      "metadata": {
        "colab": {
          "base_uri": "https://localhost:8080/"
        },
        "id": "XdVigSSl9Jl6",
        "outputId": "46452849-befa-4bb3-937d-4642c7e267e8"
      },
      "source": [
        "# Print targets\n",
        "print(targets)"
      ],
      "execution_count": 64,
      "outputs": [
        {
          "output_type": "stream",
          "name": "stdout",
          "text": [
            "[[ 56.  70.]\n",
            " [ 81. 101.]\n",
            " [119. 133.]\n",
            " [ 22.  37.]\n",
            " [103. 119.]\n",
            " [ 56.  70.]\n",
            " [ 81. 101.]\n",
            " [119. 133.]\n",
            " [ 22.  37.]\n",
            " [103. 119.]\n",
            " [ 56.  70.]\n",
            " [ 81. 101.]\n",
            " [119. 133.]\n",
            " [ 22.  37.]\n",
            " [103. 119.]]\n"
          ]
        }
      ]
    }
  ]
}