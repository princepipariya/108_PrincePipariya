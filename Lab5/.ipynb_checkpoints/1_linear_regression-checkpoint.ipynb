{
 "cells": [
  {
   "cell_type": "code",
   "execution_count": 1,
   "metadata": {
    "id": "XFk-kC112GAd"
   },
   "outputs": [
    {
     "ename": "ModuleNotFoundError",
     "evalue": "No module named 'torch'",
     "output_type": "error",
     "traceback": [
      "\u001b[0;31m---------------------------------------------------------------------------\u001b[0m",
      "\u001b[0;31mModuleNotFoundError\u001b[0m                       Traceback (most recent call last)",
      "\u001b[0;32m<ipython-input-1-7d1470747005>\u001b[0m in \u001b[0;36m<module>\u001b[0;34m\u001b[0m\n\u001b[1;32m      1\u001b[0m \u001b[0;31m# Import Numpy & PyTorch\u001b[0m\u001b[0;34m\u001b[0m\u001b[0;34m\u001b[0m\u001b[0;34m\u001b[0m\u001b[0m\n\u001b[1;32m      2\u001b[0m \u001b[0;32mimport\u001b[0m \u001b[0mnumpy\u001b[0m \u001b[0;32mas\u001b[0m \u001b[0mnp\u001b[0m\u001b[0;34m\u001b[0m\u001b[0;34m\u001b[0m\u001b[0m\n\u001b[0;32m----> 3\u001b[0;31m \u001b[0;32mimport\u001b[0m \u001b[0mtorch\u001b[0m\u001b[0;34m\u001b[0m\u001b[0;34m\u001b[0m\u001b[0m\n\u001b[0m",
      "\u001b[0;31mModuleNotFoundError\u001b[0m: No module named 'torch'"
     ]
    }
   ],
   "source": [
    "# Import Numpy & PyTorch\n",
    "import numpy as np\n",
    "import torch"
   ]
  },
  {
   "cell_type": "markdown",
   "metadata": {
    "id": "kEEd6KF-2tqx"
   },
   "source": [
    "A tensor is a number, vector, matrix or any n-dimensional array."
   ]
  },
  {
   "cell_type": "markdown",
   "metadata": {
    "id": "LkocjIOv2xqk"
   },
   "source": [
    "## Problem Statement"
   ]
  },
  {
   "cell_type": "markdown",
   "metadata": {
    "id": "URt9b_V53Jhi"
   },
   "source": [
    "We'll create a model that predicts crop yeilds for apples (*target variable*) by looking at the average temperature, rainfall and humidity (*input variables or features*) in different regions. \n",
    "\n",
    "Here's the training data:\n",
    "\n",
    ">Temp | Rain | Humidity | Prediction\n",
    ">--- | --- | --- | ---\n",
    "> 73 | 67 | 43 | 56\n",
    "> 91 | 88 | 64 | 81\n",
    "> 87 | 134 | 58 | 119\n",
    "> 102 | 43 | 37 | 22\n",
    "> 69 | 96 | 70 | 103\n",
    "\n",
    "In a **linear regression** model, each target variable is estimated to be a weighted sum of the input variables, offset by some constant, known as a bias :\n",
    "\n",
    "```\n",
    "yeild_apple  = w11 * temp + w12 * rainfall + w13 * humidity + b1\n",
    "```\n",
    "\n",
    "It means that the yield of apples is a linear or planar function of the temperature, rainfall & humidity.\n",
    "\n",
    "\n",
    "\n",
    "**Our objective**: Find a suitable set of *weights* and *biases* using the training data, to make accurate predictions."
   ]
  },
  {
   "cell_type": "markdown",
   "metadata": {
    "id": "DEQl9WI_3P3e"
   },
   "source": [
    "## Training Data\n",
    "The training data can be represented using 2 matrices (inputs and targets), each with one row per observation and one column for variable."
   ]
  },
  {
   "cell_type": "code",
   "execution_count": null,
   "metadata": {
    "id": "zvpp1hiB3Qb4"
   },
   "outputs": [],
   "source": [
    "# Input (temp, rainfall, humidity)\n",
    "inputs = np.array([[73, 67, 43], \n",
    "                   [91, 88, 64], \n",
    "                   [87, 134, 58], \n",
    "                   [102, 43, 37], \n",
    "                   [69, 96, 70]], dtype='float32')"
   ]
  },
  {
   "cell_type": "code",
   "execution_count": null,
   "metadata": {
    "id": "_mqcRXSO3TaY"
   },
   "outputs": [],
   "source": [
    "# Target (apples)\n",
    "targets = np.array([[56], \n",
    "                    [81], \n",
    "                    [119], \n",
    "                    [22], \n",
    "                    [103]], dtype='float32')"
   ]
  },
  {
   "cell_type": "markdown",
   "metadata": {
    "id": "Sa0UQ7AB3ZYI"
   },
   "source": [
    "Before we build a model, we need to convert inputs and targets to PyTorch tensors."
   ]
  },
  {
   "cell_type": "code",
   "execution_count": null,
   "metadata": {
    "colab": {
     "base_uri": "https://localhost:8080/"
    },
    "id": "hTbgHpNQ3WHv",
    "outputId": "5a53251a-50fd-4f50-af7c-eea32a85f9d3"
   },
   "outputs": [],
   "source": [
    "# Convert inputs and targets to tensors\n",
    "inputs_tensor = torch.from_numpy(inputs)\n",
    "targets_tensor = torch.from_numpy(targets)\n",
    "\n",
    "print(inputs_tensor)\n",
    "print(targets_tensor)"
   ]
  },
  {
   "cell_type": "markdown",
   "metadata": {
    "id": "VzuET8HC3it9"
   },
   "source": [
    "## Linear Regression Model (from scratch)\n",
    "\n",
    "The *weights* and *biases* can also be represented as matrices, initialized with random values. The first row of `w` and the first element of `b` are use to predict the first target variable i.e. yield for apples, and similarly the second for oranges."
   ]
  },
  {
   "cell_type": "code",
   "execution_count": null,
   "metadata": {
    "colab": {
     "base_uri": "https://localhost:8080/"
    },
    "id": "Zwh7VfuA3cGZ",
    "outputId": "24eb928d-83b2-40cd-a4d9-9090d039b31e"
   },
   "outputs": [],
   "source": [
    "# Weights and biases\n",
    "weights = torch.randn(1,3, requires_grad=True)\n",
    "biases = torch.randn(1, requires_grad=True)\n",
    "print(weights)\n",
    "print(biases)"
   ]
  },
  {
   "cell_type": "markdown",
   "metadata": {
    "id": "bFiNi1Rc3p2c"
   },
   "source": [
    "The *model* is simply a function that performs a matrix multiplication of the input `x` and the weights `w` (transposed) and adds the bias `b` (replicated for each observation).\n",
    "\n",
    "$$\n",
    "\\hspace{2.5cm} X \\hspace{1.1cm} \\times \\hspace{1.2cm} W^T \\hspace{1.2cm}  + \\hspace{1cm} b \\hspace{2cm}\n",
    "$$\n",
    "\n",
    "$$\n",
    "\\left[ \\begin{array}{cc}\n",
    "73 & 67 & 43 \\\\\n",
    "91 & 88 & 64 \\\\\n",
    "\\vdots & \\vdots & \\vdots \\\\\n",
    "69 & 96 & 70\n",
    "\\end{array} \\right]\n",
    "%\n",
    "\\times\n",
    "%\n",
    "\\left[ \\begin{array}{cc}\n",
    "w_{11} & w_{21} \\\\\n",
    "w_{12} & w_{22} \\\\\n",
    "w_{13} & w_{23}\n",
    "\\end{array} \\right]\n",
    "%\n",
    "+\n",
    "%\n",
    "\\left[ \\begin{array}{cc}\n",
    "b_{1} & b_{2} \\\\\n",
    "b_{1} & b_{2} \\\\\n",
    "\\vdots & \\vdots \\\\\n",
    "b_{1} & b_{2} \\\\\n",
    "\\end{array} \\right]\n",
    "$$"
   ]
  },
  {
   "cell_type": "code",
   "execution_count": null,
   "metadata": {
    "id": "yPHh6SPp3lva"
   },
   "outputs": [],
   "source": [
    "# Define the model\n",
    "def model(x):\n",
    "    return x @ weights.t() + biases"
   ]
  },
  {
   "cell_type": "markdown",
   "metadata": {
    "id": "bwrM1URl3w5U"
   },
   "source": [
    "The matrix obtained by passing the input data to the model is a set of predictions for the target variables."
   ]
  },
  {
   "cell_type": "code",
   "execution_count": null,
   "metadata": {
    "id": "8wKJnVLK3t1s"
   },
   "outputs": [],
   "source": [
    "# Generate predictions\n",
    "preds = model(inputs_tensor)"
   ]
  },
  {
   "cell_type": "code",
   "execution_count": null,
   "metadata": {
    "colab": {
     "base_uri": "https://localhost:8080/"
    },
    "id": "2yU178P_3089",
    "outputId": "e57f3283-7ab1-4be4-b5ab-e34fc2598969"
   },
   "outputs": [],
   "source": [
    "# Compare with targets\n",
    "print(\"Predictions : \", preds)\n",
    "print(\"Targets : \",targets_tensor)"
   ]
  },
  {
   "cell_type": "markdown",
   "metadata": {
    "id": "NZZPHd8l36RD"
   },
   "source": [
    "Because we've started with random weights and biases, the model does not perform a good job of predicting the target varaibles."
   ]
  },
  {
   "cell_type": "markdown",
   "metadata": {
    "id": "FEgA8ku-39kr"
   },
   "source": [
    "## Loss Function\n",
    "\n",
    "We can compare the predictions with the actual targets, using the following method: \n",
    "* Calculate the difference between the two matrices (`preds` and `targets`).\n",
    "* Square all elements of the difference matrix to remove negative values.\n",
    "* Calculate the average of the elements in the resulting matrix.\n",
    "\n",
    "The result is a single number, known as the **mean squared error** (MSE)."
   ]
  },
  {
   "cell_type": "code",
   "execution_count": null,
   "metadata": {
    "id": "KprD9sME33Ob"
   },
   "outputs": [],
   "source": [
    "# MSE loss\n",
    "def mse(t1, t2):\n",
    "    diff = t1 - t2\n",
    "    return torch.sum(diff * diff) / diff.numel()"
   ]
  },
  {
   "cell_type": "code",
   "execution_count": null,
   "metadata": {
    "colab": {
     "base_uri": "https://localhost:8080/"
    },
    "id": "IgVsG0ew4Aaz",
    "outputId": "5ec453e3-6e04-4239-c916-7aca280160c4"
   },
   "outputs": [],
   "source": [
    "# Compute loss\n",
    "loss = mse(preds, targets_tensor)\n",
    "print(loss)"
   ]
  },
  {
   "cell_type": "markdown",
   "metadata": {
    "id": "H3qtTG6A4Jm_"
   },
   "source": [
    "The resulting number is called the **loss**, because it indicates how bad the model is at predicting the target variables. Lower the loss, better the model."
   ]
  },
  {
   "cell_type": "markdown",
   "metadata": {
    "id": "ogCeH-ik4N2R"
   },
   "source": [
    "## Compute Gradients\n",
    "\n",
    "With PyTorch, we can automatically compute the gradient or derivative of the `loss` w.r.t. to the weights and biases, because they have `requires_grad` set to `True`.\n",
    "\n",
    "More on autograd:  https://pytorch.org/docs/stable/autograd.html#module-torch.autograd"
   ]
  },
  {
   "cell_type": "code",
   "execution_count": null,
   "metadata": {
    "id": "tAnRNqFi4Dq6"
   },
   "outputs": [],
   "source": [
    "# Compute gradients\n",
    "loss.backward()"
   ]
  },
  {
   "cell_type": "code",
   "execution_count": null,
   "metadata": {
    "colab": {
     "base_uri": "https://localhost:8080/"
    },
    "id": "37KMxV9k4RiK",
    "outputId": "c0774a74-c36d-4cc6-d285-b062fc6f2cb9"
   },
   "outputs": [],
   "source": [
    "# Gradients for weights\n",
    "print(weights)\n",
    "print(weights.grad)"
   ]
  },
  {
   "cell_type": "code",
   "execution_count": null,
   "metadata": {
    "colab": {
     "base_uri": "https://localhost:8080/"
    },
    "id": "SAgXmp5G4T9q",
    "outputId": "06176bbe-6a32-493a-971d-47f12320a200"
   },
   "outputs": [],
   "source": [
    "# Gradients for bias\n",
    "print(biases)\n",
    "print(biases.grad)"
   ]
  },
  {
   "cell_type": "markdown",
   "metadata": {
    "id": "YbdzCjOS4aov"
   },
   "source": [
    "A key insight from calculus is that the gradient indicates the rate of change of the loss, or the slope of the loss function w.r.t. the weights and biases. \n",
    "\n",
    "* If a gradient element is **postive**, \n",
    "    * **increasing** the element's value slightly will **increase** the loss.\n",
    "    * **decreasing** the element's value slightly will **decrease** the loss.\n",
    "\n",
    "\n",
    "\n",
    "\n",
    "* If a gradient element is **negative**,\n",
    "    * **increasing** the element's value slightly will **decrease** the loss.\n",
    "    * **decreasing** the element's value slightly will **increase** the loss.\n",
    "    \n",
    "\n",
    "\n",
    "The increase or decrease is proportional to the value of the gradient."
   ]
  },
  {
   "cell_type": "markdown",
   "metadata": {
    "id": "di760z4D4e0o"
   },
   "source": [
    "Finally, we'll reset the gradients to zero before moving forward, because PyTorch accumulates gradients."
   ]
  },
  {
   "cell_type": "code",
   "execution_count": null,
   "metadata": {
    "colab": {
     "base_uri": "https://localhost:8080/"
    },
    "id": "uP_a09sr4Xs6",
    "outputId": "b0cb94b4-ee44-4ea7-ee30-80c214be21da"
   },
   "outputs": [],
   "source": [
    "weights.grad.zero_()\n",
    "biases.grad.zero_()\n",
    "print(weights.grad)\n",
    "print(biases.grad)"
   ]
  },
  {
   "cell_type": "markdown",
   "metadata": {
    "id": "IDeyM9Ca4j_S"
   },
   "source": [
    "## Adjust weights and biases using gradient descent\n",
    "\n",
    "We'll reduce the loss and improve our model using the gradient descent algorithm, which has the following steps:\n",
    "\n",
    "1. Generate predictions\n",
    "2. Calculate the loss\n",
    "3. Compute gradients w.r.t the weights and biases\n",
    "4. Adjust the weights by subtracting a small quantity proportional to the gradient\n",
    "5. Reset the gradients to zero"
   ]
  },
  {
   "cell_type": "code",
   "execution_count": null,
   "metadata": {
    "colab": {
     "base_uri": "https://localhost:8080/"
    },
    "id": "A8FcmR9z4hQY",
    "outputId": "6491d10e-8568-4ce7-d544-b3fad238bf1e"
   },
   "outputs": [],
   "source": [
    "# Generate predictions\n",
    "preds = model(inputs_tensor)\n",
    "print(preds)"
   ]
  },
  {
   "cell_type": "code",
   "execution_count": null,
   "metadata": {
    "colab": {
     "base_uri": "https://localhost:8080/"
    },
    "id": "a59C4CuJ4m7g",
    "outputId": "3c32fcaf-ac56-4cf9-94e5-1e90abb33547"
   },
   "outputs": [],
   "source": [
    "# Calculate the loss\n",
    "loss = mse(preds, targets_tensor)\n",
    "print(loss)"
   ]
  },
  {
   "cell_type": "code",
   "execution_count": null,
   "metadata": {
    "id": "0OZPlXoW4o9H"
   },
   "outputs": [],
   "source": [
    "# Compute gradients\n",
    "loss.backward()"
   ]
  },
  {
   "cell_type": "code",
   "execution_count": null,
   "metadata": {
    "id": "LcJe1oHJ4rLT"
   },
   "outputs": [],
   "source": [
    "# Adjust weights & reset gradients\n",
    "with torch.no_grad():\n",
    "    weights -= weights.grad * 1e-5\n",
    "    biases -= biases.grad * 1e-5\n",
    "    weights.grad.zero_()\n",
    "    biases.grad.zero_()"
   ]
  },
  {
   "cell_type": "code",
   "execution_count": null,
   "metadata": {
    "colab": {
     "base_uri": "https://localhost:8080/"
    },
    "id": "-9Uog86C4tak",
    "outputId": "4e005181-c5af-48fd-d382-f6e6573b8646"
   },
   "outputs": [],
   "source": [
    "print(weights)"
   ]
  },
  {
   "cell_type": "markdown",
   "metadata": {
    "id": "SKcjn5-a4ymq"
   },
   "source": [
    "With the new weights and biases, the model should have a lower loss."
   ]
  },
  {
   "cell_type": "code",
   "execution_count": null,
   "metadata": {
    "colab": {
     "base_uri": "https://localhost:8080/"
    },
    "id": "Rkob44mq4vuj",
    "outputId": "565774ca-5946-4441-a6c2-0314b6b6c9aa"
   },
   "outputs": [],
   "source": [
    "# Calculate loss\n",
    "preds = model(inputs_tensor)\n",
    "loss = mse(preds, targets_tensor)\n",
    "print(loss)"
   ]
  },
  {
   "cell_type": "markdown",
   "metadata": {
    "id": "6sl6vlXN46Po"
   },
   "source": [
    "## Train for multiple epochs\n",
    "\n",
    "To reduce the loss further, we repeat the process of adjusting the weights and biases using the gradients multiple times. Each iteration is called an epoch."
   ]
  },
  {
   "cell_type": "code",
   "execution_count": null,
   "metadata": {
    "id": "uk5zSmRv42O-"
   },
   "outputs": [],
   "source": [
    "# Train for 100 epochs\n",
    "for i in range(100):\n",
    "    preds = model(inputs_tensor)\n",
    "    loss = mse(preds, targets_tensor)\n",
    "    loss.backward()\n",
    "    with torch.no_grad():\n",
    "        weights -= weights.grad * 1e-5\n",
    "        biases -= biases.grad * 1e-5\n",
    "        weights.grad.zero_()\n",
    "        biases.grad.zero_()"
   ]
  },
  {
   "cell_type": "code",
   "execution_count": null,
   "metadata": {
    "colab": {
     "base_uri": "https://localhost:8080/"
    },
    "id": "3wR54YBB4-c3",
    "outputId": "6d775309-96a9-47cc-c409-e71ccbea93a6"
   },
   "outputs": [],
   "source": [
    "# Calculate loss\n",
    "preds = model(inputs_tensor)\n",
    "loss = mse(preds, targets_tensor)\n",
    "print(loss)"
   ]
  },
  {
   "cell_type": "code",
   "execution_count": null,
   "metadata": {
    "colab": {
     "base_uri": "https://localhost:8080/"
    },
    "id": "K7TQfwHK5Asr",
    "outputId": "98387b8e-95c2-411c-8964-56658f31508a"
   },
   "outputs": [],
   "source": [
    "# Print predictions\n",
    "print(preds)"
   ]
  },
  {
   "cell_type": "code",
   "execution_count": null,
   "metadata": {
    "colab": {
     "base_uri": "https://localhost:8080/"
    },
    "id": "Nv3gA40R5Ce8",
    "outputId": "868c41c3-7805-4955-ff99-71ab8b51eb93"
   },
   "outputs": [],
   "source": [
    "# Print targets\n",
    "print(targets)"
   ]
  }
 ],
 "metadata": {
  "colab": {
   "collapsed_sections": [],
   "name": "1_linear_regression.ipynb",
   "provenance": []
  },
  "kernelspec": {
   "display_name": "Python 3",
   "language": "python",
   "name": "python3"
  },
  "language_info": {
   "codemirror_mode": {
    "name": "ipython",
    "version": 3
   },
   "file_extension": ".py",
   "mimetype": "text/x-python",
   "name": "python",
   "nbconvert_exporter": "python",
   "pygments_lexer": "ipython3",
   "version": "3.8.3"
  }
 },
 "nbformat": 4,
 "nbformat_minor": 1
}
