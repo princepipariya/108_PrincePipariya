{
 "cells": [
  {
   "cell_type": "markdown",
   "id": "0ef06ed8",
   "metadata": {},
   "source": [
    "**Aim: Implement Decsion Tree classifier**\n",
    "\n",
    "\n",
    "- Implement Decision Tree classifier using scikit learn library\n",
    "- Test the classifier for Weather dataset"
   ]
  },
  {
   "cell_type": "markdown",
   "id": "58769e5f",
   "metadata": {},
   "source": [
    "Step 1: Import necessary libraries."
   ]
  },
  {
   "cell_type": "code",
   "execution_count": 1,
   "id": "a4b1694f",
   "metadata": {},
   "outputs": [],
   "source": [
    "from sklearn import preprocessing\n",
    "from sklearn.tree import DecisionTreeClassifier"
   ]
  },
  {
   "cell_type": "markdown",
   "id": "e0ed84a7",
   "metadata": {},
   "source": [
    "Step 2: Prepare dataset."
   ]
  },
  {
   "cell_type": "code",
   "execution_count": 2,
   "id": "134a636b",
   "metadata": {},
   "outputs": [],
   "source": [
    "#Predictor variables\n",
    "Outlook = ['Rainy', 'Rainy', 'Overcast', 'Sunny', 'Sunny', 'Sunny', 'Overcast',\n",
    "            'Rainy', 'Rainy', 'Sunny', 'Rainy','Overcast', 'Overcast', 'Sunny']\n",
    "Temperature = ['Hot', 'Hot', 'Hot', 'Mild', 'Cool', 'Cool', 'Cool',\n",
    "                'Mild', 'Cool', 'Mild', 'Mild', 'Mild', 'Hot', 'Mild']\n",
    "Humidity = ['High', 'High', 'High', 'High', 'Normal', 'Normal', 'Normal',\n",
    "            'High', 'Normal', 'Normal', 'Normal', 'High', 'Normal', 'High']\n",
    "Wind = ['False', 'True', 'False', 'False', 'False', 'True', 'True',\n",
    "            'False', 'False', 'False', 'True', 'True', 'False', 'True']\n",
    "\n",
    "#Class Label:\n",
    "Play = ['No', 'No', 'Yes', 'Yes', 'Yes', 'No', 'Yes', 'No',\n",
    "'Yes', 'Yes', 'Yes', 'Yes', 'Yes', 'No']"
   ]
  },
  {
   "cell_type": "markdown",
   "id": "71fbd6fb",
   "metadata": {},
   "source": [
    "Step 3: Digitize the data set using encoding"
   ]
  },
  {
   "cell_type": "code",
   "execution_count": 3,
   "id": "853cf664",
   "metadata": {},
   "outputs": [
    {
     "name": "stdout",
     "output_type": "stream",
     "text": [
      "Outllok mapping: {'Overcast': 0, 'Rainy': 1, 'Sunny': 2}\n",
      "Temperature mapping: {'Cool': 0, 'Hot': 1, 'Mild': 2}\n",
      "Humidity mapping: {'High': 0, 'Normal': 1}\n",
      "Wind mapping: {'False': 0, 'True': 1}\n",
      "Play mapping: {'No': 0, 'Yes': 1}\n",
      "\n",
      "\n",
      "\n",
      "Weather: [1 1 0 2 2 2 0 1 1 2 1 0 0 2]\n",
      "Temerature: [1 1 1 2 0 0 0 2 0 2 2 2 1 2]\n",
      "Humidity: [0 0 0 0 1 1 1 0 1 1 1 0 1 0]\n",
      "Wind: [0 1 0 0 0 1 1 0 0 0 1 1 0 1]\n",
      "Play: [0 0 1 1 1 0 1 0 1 1 1 1 1 0]\n"
     ]
    }
   ],
   "source": [
    "#creating labelEncoder\n",
    "le = preprocessing.LabelEncoder()\n",
    "\n",
    "# Converting string labels into numbers.\n",
    "Outlook_encoded = le.fit_transform(Outlook)\n",
    "Outlook_name_mapping = dict(zip(le.classes_, le.transform(le.classes_)))\n",
    "print(\"Outllok mapping:\",Outlook_name_mapping)\n",
    "\n",
    "Temperature_encoded = le.fit_transform(Temperature)\n",
    "Temperature_name_mapping = dict(zip(le.classes_, le.transform(le.classes_)))\n",
    "print(\"Temperature mapping:\",Temperature_name_mapping)\n",
    "\n",
    "Humidity_encoded = le.fit_transform(Humidity)\n",
    "Humidity_name_mapping = dict(zip(le.classes_, le.transform(le.classes_)))\n",
    "print(\"Humidity mapping:\",Humidity_name_mapping)\n",
    "\n",
    "Wind_encoded = le.fit_transform(Wind)\n",
    "Wind_name_mapping = dict(zip(le.classes_, le.transform(le.classes_)))\n",
    "print(\"Wind mapping:\",Wind_name_mapping)\n",
    "\n",
    "Play_encoded = le.fit_transform(Play)\n",
    "Play_name_mapping = dict(zip(le.classes_, le.transform(le.classes_)))\n",
    "print(\"Play mapping:\",Play_name_mapping)\n",
    "\n",
    "print(\"\\n\\n\")\n",
    "print(\"Weather:\" ,Outlook_encoded)\n",
    "print(\"Temerature:\" ,Temperature_encoded)\n",
    "print(\"Humidity:\" ,Humidity_encoded)\n",
    "print(\"Wind:\" ,Wind_encoded)\n",
    "print(\"Play:\" ,Play_encoded)"
   ]
  },
  {
   "cell_type": "markdown",
   "id": "ffc74428",
   "metadata": {},
   "source": [
    "Step 4: Merge different features to prepare dataset"
   ]
  },
  {
   "cell_type": "code",
   "execution_count": 4,
   "id": "4107a83a",
   "metadata": {},
   "outputs": [
    {
     "data": {
      "text/plain": [
       "((1, 1, 0, 0),\n",
       " (1, 1, 0, 1),\n",
       " (0, 1, 0, 0),\n",
       " (2, 2, 0, 0),\n",
       " (2, 0, 1, 0),\n",
       " (2, 0, 1, 1),\n",
       " (0, 0, 1, 1),\n",
       " (1, 2, 0, 0),\n",
       " (1, 0, 1, 0),\n",
       " (2, 2, 1, 0),\n",
       " (1, 2, 1, 1),\n",
       " (0, 2, 0, 1),\n",
       " (0, 1, 1, 0),\n",
       " (2, 2, 0, 1))"
      ]
     },
     "execution_count": 4,
     "metadata": {},
     "output_type": "execute_result"
    }
   ],
   "source": [
    "features = tuple(zip(Outlook_encoded, Temperature_encoded, Humidity_encoded, Wind_encoded))\n",
    "features"
   ]
  },
  {
   "cell_type": "markdown",
   "id": "cfba2eb3",
   "metadata": {},
   "source": [
    "Step 5: Train ’Create and Train DecisionTreeClassifier’"
   ]
  },
  {
   "cell_type": "code",
   "execution_count": 5,
   "id": "7445cc4c",
   "metadata": {},
   "outputs": [],
   "source": [
    "#Create a Decision Tree Classifier (using Entropy)\n",
    "DT = DecisionTreeClassifier(criterion = \"entropy\")\n",
    "\n",
    "# Train the model using the training sets\n",
    "final_model = DT.fit(features, Play_encoded) #(features, Class_label)"
   ]
  },
  {
   "cell_type": "markdown",
   "id": "5ba1c6f4",
   "metadata": {},
   "source": [
    "Step 6: Predict Output for new data "
   ]
  },
  {
   "cell_type": "code",
   "execution_count": 6,
   "id": "261bfeb1",
   "metadata": {},
   "outputs": [
    {
     "name": "stdout",
     "output_type": "stream",
     "text": [
      "Predicted Values for Playing:  [1 1 0]\n"
     ]
    }
   ],
   "source": [
    "#Predict Output\n",
    "prediction = DT.predict([[0, 1, 1, 0],[2, 2, 1, 1], [2, 2, 0, 1]]) # last is from training dataset and expected o/p was 0 and it is\n",
    "print(\"Predicted Values for Playing: \", prediction) #No:0 ; Yes:1"
   ]
  },
  {
   "cell_type": "markdown",
   "id": "e568c411",
   "metadata": {},
   "source": [
    "Step 7: Display Decsion Tree Created\n",
    "     \n",
    "     - This step requires graphviz and tkinter packages installed  "
   ]
  },
  {
   "cell_type": "code",
   "execution_count": 9,
   "id": "211c9d5f",
   "metadata": {},
   "outputs": [
    {
     "ename": "FileNotFoundError",
     "evalue": "[Errno 2] No such file or directory: 'tree_entropy.png'",
     "output_type": "error",
     "traceback": [
      "\u001b[0;31m---------------------------------------------------------------------------\u001b[0m",
      "\u001b[0;31mFileNotFoundError\u001b[0m                         Traceback (most recent call last)",
      "\u001b[0;32m<ipython-input-9-22fa4cca62b5>\u001b[0m in \u001b[0;36m<module>\u001b[0;34m\u001b[0m\n\u001b[1;32m     12\u001b[0m \u001b[0;32mimport\u001b[0m \u001b[0mmatplotlib\u001b[0m\u001b[0;34m.\u001b[0m\u001b[0mpyplot\u001b[0m \u001b[0;32mas\u001b[0m \u001b[0mplt\u001b[0m\u001b[0;34m\u001b[0m\u001b[0;34m\u001b[0m\u001b[0m\n\u001b[1;32m     13\u001b[0m \u001b[0mplt\u001b[0m\u001b[0;34m.\u001b[0m\u001b[0mfigure\u001b[0m\u001b[0;34m(\u001b[0m\u001b[0mfigsize\u001b[0m \u001b[0;34m=\u001b[0m \u001b[0;34m(\u001b[0m\u001b[0;36m14\u001b[0m\u001b[0;34m,\u001b[0m \u001b[0;36m18\u001b[0m\u001b[0;34m)\u001b[0m\u001b[0;34m)\u001b[0m\u001b[0;34m\u001b[0m\u001b[0;34m\u001b[0m\u001b[0m\n\u001b[0;32m---> 14\u001b[0;31m \u001b[0mplt\u001b[0m\u001b[0;34m.\u001b[0m\u001b[0mimshow\u001b[0m\u001b[0;34m(\u001b[0m\u001b[0mplt\u001b[0m\u001b[0;34m.\u001b[0m\u001b[0mimread\u001b[0m\u001b[0;34m(\u001b[0m\u001b[0;34m'tree_entropy.png'\u001b[0m\u001b[0;34m)\u001b[0m\u001b[0;34m)\u001b[0m\u001b[0;34m\u001b[0m\u001b[0;34m\u001b[0m\u001b[0m\n\u001b[0m\u001b[1;32m     15\u001b[0m \u001b[0mplt\u001b[0m\u001b[0;34m.\u001b[0m\u001b[0maxis\u001b[0m\u001b[0;34m(\u001b[0m\u001b[0;34m'off'\u001b[0m\u001b[0;34m)\u001b[0m\u001b[0;34m\u001b[0m\u001b[0;34m\u001b[0m\u001b[0m\n\u001b[1;32m     16\u001b[0m \u001b[0mplt\u001b[0m\u001b[0;34m.\u001b[0m\u001b[0mshow\u001b[0m\u001b[0;34m(\u001b[0m\u001b[0;34m)\u001b[0m\u001b[0;34m\u001b[0m\u001b[0;34m\u001b[0m\u001b[0m\n",
      "\u001b[0;32m~/.local/lib/python3.8/site-packages/matplotlib/pyplot.py\u001b[0m in \u001b[0;36mimread\u001b[0;34m(fname, format)\u001b[0m\n\u001b[1;32m   2405\u001b[0m \u001b[0;34m@\u001b[0m\u001b[0m_copy_docstring_and_deprecators\u001b[0m\u001b[0;34m(\u001b[0m\u001b[0mmatplotlib\u001b[0m\u001b[0;34m.\u001b[0m\u001b[0mimage\u001b[0m\u001b[0;34m.\u001b[0m\u001b[0mimread\u001b[0m\u001b[0;34m)\u001b[0m\u001b[0;34m\u001b[0m\u001b[0;34m\u001b[0m\u001b[0m\n\u001b[1;32m   2406\u001b[0m \u001b[0;32mdef\u001b[0m \u001b[0mimread\u001b[0m\u001b[0;34m(\u001b[0m\u001b[0mfname\u001b[0m\u001b[0;34m,\u001b[0m \u001b[0mformat\u001b[0m\u001b[0;34m=\u001b[0m\u001b[0;32mNone\u001b[0m\u001b[0;34m)\u001b[0m\u001b[0;34m:\u001b[0m\u001b[0;34m\u001b[0m\u001b[0;34m\u001b[0m\u001b[0m\n\u001b[0;32m-> 2407\u001b[0;31m     \u001b[0;32mreturn\u001b[0m \u001b[0mmatplotlib\u001b[0m\u001b[0;34m.\u001b[0m\u001b[0mimage\u001b[0m\u001b[0;34m.\u001b[0m\u001b[0mimread\u001b[0m\u001b[0;34m(\u001b[0m\u001b[0mfname\u001b[0m\u001b[0;34m,\u001b[0m \u001b[0mformat\u001b[0m\u001b[0;34m)\u001b[0m\u001b[0;34m\u001b[0m\u001b[0;34m\u001b[0m\u001b[0m\n\u001b[0m\u001b[1;32m   2408\u001b[0m \u001b[0;34m\u001b[0m\u001b[0m\n\u001b[1;32m   2409\u001b[0m \u001b[0;34m\u001b[0m\u001b[0m\n",
      "\u001b[0;32m~/.local/lib/python3.8/site-packages/matplotlib/image.py\u001b[0m in \u001b[0;36mimread\u001b[0;34m(fname, format)\u001b[0m\n\u001b[1;32m   1499\u001b[0m                     \u001b[0mresponse\u001b[0m \u001b[0;34m=\u001b[0m \u001b[0mio\u001b[0m\u001b[0;34m.\u001b[0m\u001b[0mBytesIO\u001b[0m\u001b[0;34m(\u001b[0m\u001b[0mresponse\u001b[0m\u001b[0;34m.\u001b[0m\u001b[0mread\u001b[0m\u001b[0;34m(\u001b[0m\u001b[0;34m)\u001b[0m\u001b[0;34m)\u001b[0m\u001b[0;34m\u001b[0m\u001b[0;34m\u001b[0m\u001b[0m\n\u001b[1;32m   1500\u001b[0m                 \u001b[0;32mreturn\u001b[0m \u001b[0mimread\u001b[0m\u001b[0;34m(\u001b[0m\u001b[0mresponse\u001b[0m\u001b[0;34m,\u001b[0m \u001b[0mformat\u001b[0m\u001b[0;34m=\u001b[0m\u001b[0mext\u001b[0m\u001b[0;34m)\u001b[0m\u001b[0;34m\u001b[0m\u001b[0;34m\u001b[0m\u001b[0m\n\u001b[0;32m-> 1501\u001b[0;31m     \u001b[0;32mwith\u001b[0m \u001b[0mimg_open\u001b[0m\u001b[0;34m(\u001b[0m\u001b[0mfname\u001b[0m\u001b[0;34m)\u001b[0m \u001b[0;32mas\u001b[0m \u001b[0mimage\u001b[0m\u001b[0;34m:\u001b[0m\u001b[0;34m\u001b[0m\u001b[0;34m\u001b[0m\u001b[0m\n\u001b[0m\u001b[1;32m   1502\u001b[0m         return (_pil_png_to_float_array(image)\n\u001b[1;32m   1503\u001b[0m                 \u001b[0;32mif\u001b[0m \u001b[0misinstance\u001b[0m\u001b[0;34m(\u001b[0m\u001b[0mimage\u001b[0m\u001b[0;34m,\u001b[0m \u001b[0mPIL\u001b[0m\u001b[0;34m.\u001b[0m\u001b[0mPngImagePlugin\u001b[0m\u001b[0;34m.\u001b[0m\u001b[0mPngImageFile\u001b[0m\u001b[0;34m)\u001b[0m \u001b[0;32melse\u001b[0m\u001b[0;34m\u001b[0m\u001b[0;34m\u001b[0m\u001b[0m\n",
      "\u001b[0;32m~/anaconda3/envs/p3conda/lib/python3.8/site-packages/PIL/ImageFile.py\u001b[0m in \u001b[0;36m__init__\u001b[0;34m(self, fp, filename)\u001b[0m\n\u001b[1;32m    107\u001b[0m         \u001b[0;32mif\u001b[0m \u001b[0misPath\u001b[0m\u001b[0;34m(\u001b[0m\u001b[0mfp\u001b[0m\u001b[0;34m)\u001b[0m\u001b[0;34m:\u001b[0m\u001b[0;34m\u001b[0m\u001b[0;34m\u001b[0m\u001b[0m\n\u001b[1;32m    108\u001b[0m             \u001b[0;31m# filename\u001b[0m\u001b[0;34m\u001b[0m\u001b[0;34m\u001b[0m\u001b[0;34m\u001b[0m\u001b[0m\n\u001b[0;32m--> 109\u001b[0;31m             \u001b[0mself\u001b[0m\u001b[0;34m.\u001b[0m\u001b[0mfp\u001b[0m \u001b[0;34m=\u001b[0m \u001b[0mopen\u001b[0m\u001b[0;34m(\u001b[0m\u001b[0mfp\u001b[0m\u001b[0;34m,\u001b[0m \u001b[0;34m\"rb\"\u001b[0m\u001b[0;34m)\u001b[0m\u001b[0;34m\u001b[0m\u001b[0;34m\u001b[0m\u001b[0m\n\u001b[0m\u001b[1;32m    110\u001b[0m             \u001b[0mself\u001b[0m\u001b[0;34m.\u001b[0m\u001b[0mfilename\u001b[0m \u001b[0;34m=\u001b[0m \u001b[0mfp\u001b[0m\u001b[0;34m\u001b[0m\u001b[0;34m\u001b[0m\u001b[0m\n\u001b[1;32m    111\u001b[0m             \u001b[0mself\u001b[0m\u001b[0;34m.\u001b[0m\u001b[0m_exclusive_fp\u001b[0m \u001b[0;34m=\u001b[0m \u001b[0;32mTrue\u001b[0m\u001b[0;34m\u001b[0m\u001b[0;34m\u001b[0m\u001b[0m\n",
      "\u001b[0;31mFileNotFoundError\u001b[0m: [Errno 2] No such file or directory: 'tree_entropy.png'"
     ]
    },
    {
     "data": {
      "text/plain": [
       "<Figure size 1008x1296 with 0 Axes>"
      ]
     },
     "metadata": {},
     "output_type": "display_data"
    }
   ],
   "source": [
    "from sklearn.tree import export_graphviz\n",
    "export_graphviz(DT,out_file='tree_entropy.dot',\n",
    "               feature_names=['outlook','temperature','humidity','wind'],\n",
    "               class_names=['play_no','play_yes'], \n",
    "               filled=True)\n",
    "\n",
    "# Convert to png\n",
    "from subprocess import call\n",
    "call(['dot', '-Tpng', 'tree_entropy.dot', '-o', 'tree_entropy.png', '-Gdpi=600'], shell=True)\n",
    "\n",
    "# Display in python\n",
    "import matplotlib.pyplot as plt\n",
    "plt.figure(figsize = (14, 18))\n",
    "plt.imshow(plt.imread('tree_entropy.png'))\n",
    "plt.axis('off')\n",
    "plt.show()"
   ]
  },
  {
   "cell_type": "code",
   "execution_count": null,
   "id": "f494e238",
   "metadata": {},
   "outputs": [],
   "source": []
  }
 ],
 "metadata": {
  "kernelspec": {
   "display_name": "Python 3",
   "language": "python",
   "name": "python3"
  },
  "language_info": {
   "codemirror_mode": {
    "name": "ipython",
    "version": 3
   },
   "file_extension": ".py",
   "mimetype": "text/x-python",
   "name": "python",
   "nbconvert_exporter": "python",
   "pygments_lexer": "ipython3",
   "version": "3.8.3"
  }
 },
 "nbformat": 4,
 "nbformat_minor": 5
}
