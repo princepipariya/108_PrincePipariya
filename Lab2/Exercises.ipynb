{
 "cells": [
  {
   "cell_type": "code",
   "execution_count": 24,
   "id": "ada77d37",
   "metadata": {},
   "outputs": [],
   "source": [
    "import numpy as np \n",
    "import pandas as pd\n",
    "from sklearn.preprocessing import MinMaxScaler, StandardScaler, LabelEncoder, OneHotEncoder\n",
    "from sklearn.impute import SimpleImputer \n",
    "import seaborn as sns"
   ]
  },
  {
   "cell_type": "markdown",
   "id": "a9c2dc01",
   "metadata": {},
   "source": [
    "### 1: DataTransformation"
   ]
  },
  {
   "cell_type": "code",
   "execution_count": 25,
   "id": "2d3075df",
   "metadata": {},
   "outputs": [
    {
     "name": "stdout",
     "output_type": "stream",
     "text": [
      "\n",
      "Data :\n",
      "       Unnamed: 0  Price   Age     KM FuelType   HP  MetColor  Automatic    CC  \\\n",
      "0              0  13500  23.0  46986   Diesel   90       1.0          0  2000   \n",
      "1              1  13750  23.0  72937   Diesel   90       1.0          0  2000   \n",
      "2              2  13950  24.0  41711   Diesel   90       NaN          0  2000   \n",
      "3              3  14950  26.0  48000   Diesel   90       0.0          0  2000   \n",
      "4              4  13750  30.0  38500   Diesel   90       0.0          0  2000   \n",
      "...          ...    ...   ...    ...      ...  ...       ...        ...   ...   \n",
      "1431        1431   7500   NaN  20544   Petrol   86       1.0          0  1300   \n",
      "1432        1432  10845  72.0     ??   Petrol   86       0.0          0  1300   \n",
      "1433        1433   8500   NaN  17016   Petrol   86       0.0          0  1300   \n",
      "1434        1434   7250  70.0     ??      NaN   86       1.0          0  1300   \n",
      "1435        1435   6950  76.0      1   Petrol  110       0.0          0  1600   \n",
      "\n",
      "      Doors  Weight  \n",
      "0     three    1165  \n",
      "1         3    1165  \n",
      "2         3    1165  \n",
      "3         3    1165  \n",
      "4         3    1170  \n",
      "...     ...     ...  \n",
      "1431      3    1025  \n",
      "1432      3    1015  \n",
      "1433      3    1015  \n",
      "1434      3    1015  \n",
      "1435      5    1114  \n",
      "\n",
      "[1436 rows x 11 columns]\n",
      "\n",
      "Data statistics\n",
      "         Unnamed: 0         Price          Age     MetColor    Automatic  \\\n",
      "count  1436.000000   1436.000000  1336.000000  1286.000000  1436.000000   \n",
      "mean    717.500000  10730.824513    55.672156     0.674961     0.055710   \n",
      "std     414.681806   3626.964585    18.589804     0.468572     0.229441   \n",
      "min       0.000000   4350.000000     1.000000     0.000000     0.000000   \n",
      "25%     358.750000   8450.000000    43.000000     0.000000     0.000000   \n",
      "50%     717.500000   9900.000000    60.000000     1.000000     0.000000   \n",
      "75%    1076.250000  11950.000000    70.000000     1.000000     0.000000   \n",
      "max    1435.000000  32500.000000    80.000000     1.000000     1.000000   \n",
      "\n",
      "                CC      Weight  \n",
      "count  1436.000000  1436.00000  \n",
      "mean   1566.827994  1072.45961  \n",
      "std     187.182436    52.64112  \n",
      "min    1300.000000  1000.00000  \n",
      "25%    1400.000000  1040.00000  \n",
      "50%    1600.000000  1070.00000  \n",
      "75%    1600.000000  1085.00000  \n",
      "max    2000.000000  1615.00000  \n",
      "\n",
      "\n",
      "Input : \n",
      " [[23.0 '46986' 'Diesel' ... 2000 'three' 1165]\n",
      " [23.0 '72937' 'Diesel' ... 2000 '3' 1165]\n",
      " [24.0 '41711' 'Diesel' ... 2000 '3' 1165]\n",
      " ...\n",
      " [nan '17016' 'Petrol' ... 1300 '3' 1015]\n",
      " [70.0 '??' nan ... 1300 '3' 1015]\n",
      " [76.0 '1' 'Petrol' ... 1600 '5' 1114]]\n",
      "\n",
      "\n",
      "Output: \n",
      " [13500 13750 13950 ...  8500  7250  6950]\n",
      "\n",
      "\n",
      "X for transformation : \n",
      " [[13500.    23.]\n",
      " [13750.    23.]\n",
      " [13950.    24.]\n",
      " ...\n",
      " [ 8500.    nan]\n",
      " [ 7250.    70.]\n",
      " [ 6950.    76.]]\n"
     ]
    }
   ],
   "source": [
    "datasets = pd.read_csv('Datasets/Exercise-CarData.csv') \n",
    "print(\"\\nData :\\n\",datasets)\n",
    "print(\"\\nData statistics\\n\",datasets.describe())\n",
    "\n",
    "X = datasets.iloc[:, 2:].values \n",
    "  \n",
    "Y = datasets.iloc[:, 1].values \n",
    "\n",
    "print(\"\\n\\nInput : \\n\", X) \n",
    "print(\"\\n\\nOutput: \\n\", Y) \n",
    "\n",
    "X_new = datasets.iloc[:,1:3].values\n",
    "print(\"\\n\\nX for transformation : \\n\", X_new)"
   ]
  },
  {
   "cell_type": "code",
   "execution_count": 26,
   "id": "9a8ff712",
   "metadata": {},
   "outputs": [
    {
     "name": "stdout",
     "output_type": "stream",
     "text": [
      "\n",
      "\n",
      "Scaled X : \n",
      " [[0.3250444  0.27848101]\n",
      " [0.3339254  0.27848101]\n",
      " [0.3410302  0.29113924]\n",
      " ...\n",
      " [0.14742451        nan]\n",
      " [0.10301954 0.87341772]\n",
      " [0.09236234 0.94936709]]\n"
     ]
    }
   ],
   "source": [
    "scaler = MinMaxScaler()\n",
    "X_scaled = scaler.fit_transform(X_new)\n",
    "\n",
    "print(\"\\n\\nScaled X : \\n\", X_scaled)"
   ]
  },
  {
   "cell_type": "code",
   "execution_count": 27,
   "id": "f33c6792",
   "metadata": {},
   "outputs": [
    {
     "name": "stdout",
     "output_type": "stream",
     "text": [
      "\n",
      "\n",
      "Standardized X : \n",
      " [[ 0.76376268 -1.75818903]\n",
      " [ 0.83271485 -1.75818903]\n",
      " [ 0.88787659 -1.70437596]\n",
      " ...\n",
      " [-0.6152808          nan]\n",
      " [-0.96004167  0.7710253 ]\n",
      " [-1.04278428  1.09390373]]\n"
     ]
    }
   ],
   "source": [
    "std = StandardScaler()\n",
    "X_std = std.fit_transform(X_new)\n",
    "print(\"\\n\\nStandardized X : \\n\", X_std)"
   ]
  },
  {
   "cell_type": "markdown",
   "id": "82a5bb3a",
   "metadata": {},
   "source": [
    "### 2: HandlingCategoricalData"
   ]
  },
  {
   "cell_type": "code",
   "execution_count": 28,
   "id": "1179b769",
   "metadata": {},
   "outputs": [
    {
     "name": "stdout",
     "output_type": "stream",
     "text": [
      "\n",
      "Data :\n",
      "       Unnamed: 0  Price   Age     KM FuelType   HP  MetColor  Automatic    CC  \\\n",
      "0              0  13500  23.0  46986   Diesel   90       1.0          0  2000   \n",
      "1              1  13750  23.0  72937   Diesel   90       1.0          0  2000   \n",
      "2              2  13950  24.0  41711   Diesel   90       NaN          0  2000   \n",
      "3              3  14950  26.0  48000   Diesel   90       0.0          0  2000   \n",
      "4              4  13750  30.0  38500   Diesel   90       0.0          0  2000   \n",
      "...          ...    ...   ...    ...      ...  ...       ...        ...   ...   \n",
      "1431        1431   7500   NaN  20544   Petrol   86       1.0          0  1300   \n",
      "1432        1432  10845  72.0     ??   Petrol   86       0.0          0  1300   \n",
      "1433        1433   8500   NaN  17016   Petrol   86       0.0          0  1300   \n",
      "1434        1434   7250  70.0     ??      NaN   86       1.0          0  1300   \n",
      "1435        1435   6950  76.0      1   Petrol  110       0.0          0  1600   \n",
      "\n",
      "      Doors  Weight  \n",
      "0     three    1165  \n",
      "1         3    1165  \n",
      "2         3    1165  \n",
      "3         3    1165  \n",
      "4         3    1170  \n",
      "...     ...     ...  \n",
      "1431      3    1025  \n",
      "1432      3    1015  \n",
      "1433      3    1015  \n",
      "1434      3    1015  \n",
      "1435      5    1114  \n",
      "\n",
      "[1436 rows x 11 columns]\n",
      "\n",
      "Data statistics\n",
      "         Unnamed: 0         Price          Age     MetColor    Automatic  \\\n",
      "count  1436.000000   1436.000000  1336.000000  1286.000000  1436.000000   \n",
      "mean    717.500000  10730.824513    55.672156     0.674961     0.055710   \n",
      "std     414.681806   3626.964585    18.589804     0.468572     0.229441   \n",
      "min       0.000000   4350.000000     1.000000     0.000000     0.000000   \n",
      "25%     358.750000   8450.000000    43.000000     0.000000     0.000000   \n",
      "50%     717.500000   9900.000000    60.000000     1.000000     0.000000   \n",
      "75%    1076.250000  11950.000000    70.000000     1.000000     0.000000   \n",
      "max    1435.000000  32500.000000    80.000000     1.000000     1.000000   \n",
      "\n",
      "                CC      Weight  \n",
      "count  1436.000000  1436.00000  \n",
      "mean   1566.827994  1072.45961  \n",
      "std     187.182436    52.64112  \n",
      "min    1300.000000  1000.00000  \n",
      "25%    1400.000000  1040.00000  \n",
      "50%    1600.000000  1070.00000  \n",
      "75%    1600.000000  1085.00000  \n",
      "max    2000.000000  1615.00000  \n"
     ]
    }
   ],
   "source": [
    "datasets = pd.read_csv('Datasets/Exercise-CarData.csv') \n",
    "print(\"\\nData :\\n\",datasets)\n",
    "print(\"\\nData statistics\\n\",datasets.describe())"
   ]
  },
  {
   "cell_type": "code",
   "execution_count": 29,
   "id": "1fe4447c",
   "metadata": {},
   "outputs": [
    {
     "name": "stdout",
     "output_type": "stream",
     "text": [
      "\n",
      "\n",
      "Input : \n",
      " [[23.0 '46986' 'Diesel' ... 2000 'three' 1165]\n",
      " [23.0 '72937' 'Diesel' ... 2000 '3' 1165]\n",
      " [24.0 '41711' 'Diesel' ... 2000 '3' 1165]\n",
      " ...\n",
      " [nan '17016' 'Petrol' ... 1300 '3' 1015]\n",
      " [70.0 '??' nan ... 1300 '3' 1015]\n",
      " [76.0 '1' 'Petrol' ... 1600 '5' 1114]]\n",
      "\n",
      "\n",
      "Output: \n",
      " [13500 13750 13950 ...  8500  7250  6950]\n"
     ]
    }
   ],
   "source": [
    "X = datasets.iloc[:, 2:].values \n",
    "  \n",
    "Y = datasets.iloc[:, 1].values \n",
    "\n",
    "print(\"\\n\\nInput : \\n\", X) \n",
    "print(\"\\n\\nOutput: \\n\", Y) "
   ]
  },
  {
   "cell_type": "code",
   "execution_count": 30,
   "id": "367323b0",
   "metadata": {},
   "outputs": [
    {
     "name": "stdout",
     "output_type": "stream",
     "text": [
      "\n",
      "\n",
      "Input : \n",
      " [[23.0 '46986' 1 ... 2000 'three' 1165]\n",
      " [23.0 '72937' 1 ... 2000 '3' 1165]\n",
      " [24.0 '41711' 1 ... 2000 '3' 1165]\n",
      " ...\n",
      " [nan '17016' 2 ... 1300 '3' 1015]\n",
      " [70.0 '??' 3 ... 1300 '3' 1015]\n",
      " [76.0 '1' 2 ... 1600 '5' 1114]]\n"
     ]
    }
   ],
   "source": [
    "le = LabelEncoder()\n",
    "X[ : ,2] = le.fit_transform(X[ : ,2])\n",
    "print(\"\\n\\nInput : \\n\", X) "
   ]
  },
  {
   "cell_type": "code",
   "execution_count": 31,
   "id": "a59d154b",
   "metadata": {},
   "outputs": [
    {
     "name": "stdout",
     "output_type": "stream",
     "text": [
      "\n",
      "\n",
      "Dummy :\n",
      "       CNG  Diesel  Petrol\n",
      "0       0       1       0\n",
      "1       0       1       0\n",
      "2       0       1       0\n",
      "3       0       1       0\n",
      "4       0       1       0\n",
      "...   ...     ...     ...\n",
      "1431    0       0       1\n",
      "1432    0       0       1\n",
      "1433    0       0       1\n",
      "1434    0       0       0\n",
      "1435    0       0       1\n",
      "\n",
      "[1436 rows x 3 columns]\n",
      "\n",
      "\n",
      "Final Data :\n",
      "       CNG  Diesel  Petrol  Unnamed: 0  Price   Age     KM   HP  MetColor  \\\n",
      "0       0       1       0           0  13500  23.0  46986   90       1.0   \n",
      "1       0       1       0           1  13750  23.0  72937   90       1.0   \n",
      "2       0       1       0           2  13950  24.0  41711   90       NaN   \n",
      "3       0       1       0           3  14950  26.0  48000   90       0.0   \n",
      "4       0       1       0           4  13750  30.0  38500   90       0.0   \n",
      "...   ...     ...     ...         ...    ...   ...    ...  ...       ...   \n",
      "1431    0       0       1        1431   7500   NaN  20544   86       1.0   \n",
      "1432    0       0       1        1432  10845  72.0     ??   86       0.0   \n",
      "1433    0       0       1        1433   8500   NaN  17016   86       0.0   \n",
      "1434    0       0       0        1434   7250  70.0     ??   86       1.0   \n",
      "1435    0       0       1        1435   6950  76.0      1  110       0.0   \n",
      "\n",
      "      Automatic    CC  Doors  Weight  \n",
      "0             0  2000  three    1165  \n",
      "1             0  2000      3    1165  \n",
      "2             0  2000      3    1165  \n",
      "3             0  2000      3    1165  \n",
      "4             0  2000      3    1170  \n",
      "...         ...   ...    ...     ...  \n",
      "1431          0  1300      3    1025  \n",
      "1432          0  1300      3    1015  \n",
      "1433          0  1300      3    1015  \n",
      "1434          0  1300      3    1015  \n",
      "1435          0  1600      5    1114  \n",
      "\n",
      "[1436 rows x 13 columns]\n"
     ]
    }
   ],
   "source": [
    "dummy = pd.get_dummies(datasets['FuelType'])\n",
    "print(\"\\n\\nDummy :\\n\",dummy)\n",
    "\n",
    "datasets = datasets.drop(['FuelType'],axis=1)\n",
    "datasets = pd.concat([dummy,datasets],axis=1)\n",
    "print(\"\\n\\nFinal Data :\\n\",datasets)"
   ]
  },
  {
   "cell_type": "markdown",
   "id": "dab92a66",
   "metadata": {},
   "source": [
    "### 3: HandlingMissingValues"
   ]
  },
  {
   "cell_type": "code",
   "execution_count": 32,
   "id": "4991e6d8",
   "metadata": {},
   "outputs": [
    {
     "name": "stdout",
     "output_type": "stream",
     "text": [
      "\n",
      "Data :\n",
      "       Unnamed: 0  Price   Age       KM FuelType   HP  MetColor  Automatic  \\\n",
      "0            NaN  13500  23.0  46986.0   Diesel   90       1.0        NaN   \n",
      "1            1.0  13750  23.0  72937.0   Diesel   90       1.0        NaN   \n",
      "2            2.0  13950  24.0  41711.0   Diesel   90       NaN        NaN   \n",
      "3            3.0  14950  26.0  48000.0   Diesel   90       NaN        NaN   \n",
      "4            4.0  13750  30.0  38500.0   Diesel   90       NaN        NaN   \n",
      "...          ...    ...   ...      ...      ...  ...       ...        ...   \n",
      "1431      1431.0   7500   NaN  20544.0   Petrol   86       1.0        NaN   \n",
      "1432      1432.0  10845  72.0      NaN   Petrol   86       NaN        NaN   \n",
      "1433      1433.0   8500   NaN  17016.0   Petrol   86       NaN        NaN   \n",
      "1434      1434.0   7250  70.0      NaN      NaN   86       1.0        NaN   \n",
      "1435      1435.0   6950  76.0      1.0   Petrol  110       NaN        NaN   \n",
      "\n",
      "        CC  Doors  Weight  \n",
      "0     2000  three    1165  \n",
      "1     2000      3    1165  \n",
      "2     2000      3    1165  \n",
      "3     2000      3    1165  \n",
      "4     2000      3    1170  \n",
      "...    ...    ...     ...  \n",
      "1431  1300      3    1025  \n",
      "1432  1300      3    1015  \n",
      "1433  1300      3    1015  \n",
      "1434  1300      3    1015  \n",
      "1435  1600      5    1114  \n",
      "\n",
      "[1436 rows x 11 columns]\n",
      "\n",
      "Data statistics\n",
      "         Unnamed: 0         Price          Age             KM  MetColor  \\\n",
      "count  1435.000000   1436.000000  1336.000000    1421.000000     868.0   \n",
      "mean    718.000000  10730.824513    55.672156   68647.239972       1.0   \n",
      "std     414.393131   3626.964585    18.589804   37333.023589       0.0   \n",
      "min       1.000000   4350.000000     1.000000       1.000000       1.0   \n",
      "25%     359.500000   8450.000000    43.000000   43210.000000       1.0   \n",
      "50%     718.000000   9900.000000    60.000000   63634.000000       1.0   \n",
      "75%    1076.500000  11950.000000    70.000000   87000.000000       1.0   \n",
      "max    1435.000000  32500.000000    80.000000  243000.000000       1.0   \n",
      "\n",
      "       Automatic           CC      Weight  \n",
      "count       80.0  1436.000000  1436.00000  \n",
      "mean         1.0  1566.827994  1072.45961  \n",
      "std          0.0   187.182436    52.64112  \n",
      "min          1.0  1300.000000  1000.00000  \n",
      "25%          1.0  1400.000000  1040.00000  \n",
      "50%          1.0  1600.000000  1070.00000  \n",
      "75%          1.0  1600.000000  1085.00000  \n",
      "max          1.0  2000.000000  1615.00000  \n"
     ]
    }
   ],
   "source": [
    "datasets = pd.read_csv('Datasets/Exercise-CarData.csv', na_values=['??',0]) \n",
    "print(\"\\nData :\\n\",datasets)\n",
    "print(\"\\nData statistics\\n\",datasets.describe())"
   ]
  },
  {
   "cell_type": "code",
   "execution_count": 33,
   "id": "e794dcec",
   "metadata": {},
   "outputs": [
    {
     "name": "stdout",
     "output_type": "stream",
     "text": [
      "\n",
      "\n",
      "Input : \n",
      " [[23.0 46986.0 'Diesel' ... 2000 'three' 1165]\n",
      " [23.0 72937.0 'Diesel' ... 2000 '3' 1165]\n",
      " [24.0 41711.0 'Diesel' ... 2000 '3' 1165]\n",
      " ...\n",
      " [nan 17016.0 'Petrol' ... 1300 '3' 1015]\n",
      " [70.0 nan nan ... 1300 '3' 1015]\n",
      " [76.0 1.0 'Petrol' ... 1600 '5' 1114]]\n",
      "\n",
      "\n",
      "Output: \n",
      " [13500 13750 13950 ...  8500  7250  6950]\n"
     ]
    }
   ],
   "source": [
    "X = datasets.iloc[:, 2:].values \n",
    " \n",
    "Y = datasets.iloc[:, 1].values \n",
    "\n",
    "print(\"\\n\\nInput : \\n\", X) \n",
    "print(\"\\n\\nOutput: \\n\", Y) "
   ]
  },
  {
   "cell_type": "code",
   "execution_count": 34,
   "id": "80c0e636",
   "metadata": {},
   "outputs": [
    {
     "name": "stdout",
     "output_type": "stream",
     "text": [
      "\n",
      "New Data :       Unnamed: 0  Price   Age       KM FuelType   HP  MetColor  Automatic  \\\n",
      "0            NaN  13500  23.0  46986.0   Diesel   90       1.0        NaN   \n",
      "1            1.0  13750  23.0  72937.0   Diesel   90       1.0        NaN   \n",
      "2            2.0  13950  24.0  41711.0   Diesel   90       NaN        NaN   \n",
      "3            3.0  14950  26.0  48000.0   Diesel   90       NaN        NaN   \n",
      "4            4.0  13750  30.0  38500.0   Diesel   90       NaN        NaN   \n",
      "...          ...    ...   ...      ...      ...  ...       ...        ...   \n",
      "1431      1431.0   7500   NaN  20544.0   Petrol   86       1.0        NaN   \n",
      "1432      1432.0  10845  72.0      NaN   Petrol   86       NaN        NaN   \n",
      "1433      1433.0   8500   NaN  17016.0   Petrol   86       NaN        NaN   \n",
      "1434      1434.0   7250  70.0      NaN      NaN   86       1.0        NaN   \n",
      "1435      1435.0   6950  76.0      1.0   Petrol  110       NaN        NaN   \n",
      "\n",
      "        CC  Doors  Weight  \n",
      "0     2000  three    1165  \n",
      "1     2000      3    1165  \n",
      "2     2000      3    1165  \n",
      "3     2000      3    1165  \n",
      "4     2000      3    1170  \n",
      "...    ...    ...     ...  \n",
      "1431  1300      3    1025  \n",
      "1432  1300      3    1015  \n",
      "1433  1300      3    1015  \n",
      "1434  1300      3    1015  \n",
      "1435  1600      5    1114  \n",
      "\n",
      "[1436 rows x 11 columns]\n"
     ]
    }
   ],
   "source": [
    "datasets.dropna(how='all',inplace=True)\n",
    "print(\"\\nNew Data :\",datasets)"
   ]
  },
  {
   "cell_type": "code",
   "execution_count": 35,
   "id": "acf1d307",
   "metadata": {},
   "outputs": [
    {
     "name": "stdout",
     "output_type": "stream",
     "text": [
      "\n",
      "\n",
      "New Input with Mean Value for NaN : \n",
      "\n",
      " [[23.0 46986.0 'Diesel' ... 2000 'three' 1165]\n",
      " [23.0 72937.0 'Diesel' ... 2000 '3' 1165]\n",
      " [24.0 41711.0 'Diesel' ... 2000 '3' 1165]\n",
      " ...\n",
      " [55.67215568862275 17016.0 'Petrol' ... 1300 '3' 1015]\n",
      " [70.0 68647.23997185081 nan ... 1300 '3' 1015]\n",
      " [76.0 1.0 'Petrol' ... 1600 '5' 1114]]\n"
     ]
    }
   ],
   "source": [
    "new_X = datasets.iloc[:, 2:].values \n",
    "  \n",
    "new_Y = datasets.iloc[:, 1].values \n",
    "\n",
    "imputer = SimpleImputer(missing_values = np.nan,strategy = \"mean\")\n",
    "\n",
    "imputer = imputer.fit(new_X[:, 0:2]) \n",
    "\n",
    "new_X[:, 0:2] = imputer.transform(new_X[:, 0:2]) \n",
    "  \n",
    "print(\"\\n\\nNew Input with Mean Value for NaN : \\n\\n\", new_X) "
   ]
  },
  {
   "cell_type": "markdown",
   "id": "6569cdbd",
   "metadata": {},
   "source": [
    "### 4: feature-selection-correlation"
   ]
  },
  {
   "cell_type": "code",
   "execution_count": 36,
   "id": "fb9522b4",
   "metadata": {},
   "outputs": [
    {
     "data": {
      "text/html": [
       "<div>\n",
       "<style scoped>\n",
       "    .dataframe tbody tr th:only-of-type {\n",
       "        vertical-align: middle;\n",
       "    }\n",
       "\n",
       "    .dataframe tbody tr th {\n",
       "        vertical-align: top;\n",
       "    }\n",
       "\n",
       "    .dataframe thead th {\n",
       "        text-align: right;\n",
       "    }\n",
       "</style>\n",
       "<table border=\"1\" class=\"dataframe\">\n",
       "  <thead>\n",
       "    <tr style=\"text-align: right;\">\n",
       "      <th></th>\n",
       "      <th>Unnamed: 0</th>\n",
       "      <th>Price</th>\n",
       "      <th>Age</th>\n",
       "      <th>KM</th>\n",
       "      <th>FuelType</th>\n",
       "      <th>HP</th>\n",
       "      <th>MetColor</th>\n",
       "      <th>Automatic</th>\n",
       "      <th>CC</th>\n",
       "      <th>Doors</th>\n",
       "      <th>Weight</th>\n",
       "    </tr>\n",
       "  </thead>\n",
       "  <tbody>\n",
       "    <tr>\n",
       "      <th>0</th>\n",
       "      <td>0</td>\n",
       "      <td>13500</td>\n",
       "      <td>23.0</td>\n",
       "      <td>46986</td>\n",
       "      <td>Diesel</td>\n",
       "      <td>90</td>\n",
       "      <td>1.0</td>\n",
       "      <td>0</td>\n",
       "      <td>2000</td>\n",
       "      <td>three</td>\n",
       "      <td>1165</td>\n",
       "    </tr>\n",
       "    <tr>\n",
       "      <th>1</th>\n",
       "      <td>1</td>\n",
       "      <td>13750</td>\n",
       "      <td>23.0</td>\n",
       "      <td>72937</td>\n",
       "      <td>Diesel</td>\n",
       "      <td>90</td>\n",
       "      <td>1.0</td>\n",
       "      <td>0</td>\n",
       "      <td>2000</td>\n",
       "      <td>3</td>\n",
       "      <td>1165</td>\n",
       "    </tr>\n",
       "    <tr>\n",
       "      <th>2</th>\n",
       "      <td>2</td>\n",
       "      <td>13950</td>\n",
       "      <td>24.0</td>\n",
       "      <td>41711</td>\n",
       "      <td>Diesel</td>\n",
       "      <td>90</td>\n",
       "      <td>NaN</td>\n",
       "      <td>0</td>\n",
       "      <td>2000</td>\n",
       "      <td>3</td>\n",
       "      <td>1165</td>\n",
       "    </tr>\n",
       "    <tr>\n",
       "      <th>3</th>\n",
       "      <td>3</td>\n",
       "      <td>14950</td>\n",
       "      <td>26.0</td>\n",
       "      <td>48000</td>\n",
       "      <td>Diesel</td>\n",
       "      <td>90</td>\n",
       "      <td>0.0</td>\n",
       "      <td>0</td>\n",
       "      <td>2000</td>\n",
       "      <td>3</td>\n",
       "      <td>1165</td>\n",
       "    </tr>\n",
       "    <tr>\n",
       "      <th>4</th>\n",
       "      <td>4</td>\n",
       "      <td>13750</td>\n",
       "      <td>30.0</td>\n",
       "      <td>38500</td>\n",
       "      <td>Diesel</td>\n",
       "      <td>90</td>\n",
       "      <td>0.0</td>\n",
       "      <td>0</td>\n",
       "      <td>2000</td>\n",
       "      <td>3</td>\n",
       "      <td>1170</td>\n",
       "    </tr>\n",
       "  </tbody>\n",
       "</table>\n",
       "</div>"
      ],
      "text/plain": [
       "   Unnamed: 0  Price   Age     KM FuelType  HP  MetColor  Automatic    CC  \\\n",
       "0           0  13500  23.0  46986   Diesel  90       1.0          0  2000   \n",
       "1           1  13750  23.0  72937   Diesel  90       1.0          0  2000   \n",
       "2           2  13950  24.0  41711   Diesel  90       NaN          0  2000   \n",
       "3           3  14950  26.0  48000   Diesel  90       0.0          0  2000   \n",
       "4           4  13750  30.0  38500   Diesel  90       0.0          0  2000   \n",
       "\n",
       "   Doors  Weight  \n",
       "0  three    1165  \n",
       "1      3    1165  \n",
       "2      3    1165  \n",
       "3      3    1165  \n",
       "4      3    1170  "
      ]
     },
     "execution_count": 36,
     "metadata": {},
     "output_type": "execute_result"
    }
   ],
   "source": [
    "data = pd.read_csv('Datasets/Exercise-CarData.csv')\n",
    "data.head()"
   ]
  },
  {
   "cell_type": "code",
   "execution_count": 37,
   "id": "cff3336a",
   "metadata": {},
   "outputs": [
    {
     "data": {
      "text/html": [
       "<div>\n",
       "<style scoped>\n",
       "    .dataframe tbody tr th:only-of-type {\n",
       "        vertical-align: middle;\n",
       "    }\n",
       "\n",
       "    .dataframe tbody tr th {\n",
       "        vertical-align: top;\n",
       "    }\n",
       "\n",
       "    .dataframe thead th {\n",
       "        text-align: right;\n",
       "    }\n",
       "</style>\n",
       "<table border=\"1\" class=\"dataframe\">\n",
       "  <thead>\n",
       "    <tr style=\"text-align: right;\">\n",
       "      <th></th>\n",
       "      <th>Automatic</th>\n",
       "      <th>CC</th>\n",
       "    </tr>\n",
       "  </thead>\n",
       "  <tbody>\n",
       "    <tr>\n",
       "      <th>0</th>\n",
       "      <td>0</td>\n",
       "      <td>2000</td>\n",
       "    </tr>\n",
       "    <tr>\n",
       "      <th>1</th>\n",
       "      <td>0</td>\n",
       "      <td>2000</td>\n",
       "    </tr>\n",
       "    <tr>\n",
       "      <th>2</th>\n",
       "      <td>0</td>\n",
       "      <td>2000</td>\n",
       "    </tr>\n",
       "    <tr>\n",
       "      <th>3</th>\n",
       "      <td>0</td>\n",
       "      <td>2000</td>\n",
       "    </tr>\n",
       "    <tr>\n",
       "      <th>4</th>\n",
       "      <td>0</td>\n",
       "      <td>2000</td>\n",
       "    </tr>\n",
       "  </tbody>\n",
       "</table>\n",
       "</div>"
      ],
      "text/plain": [
       "   Automatic    CC\n",
       "0          0  2000\n",
       "1          0  2000\n",
       "2          0  2000\n",
       "3          0  2000\n",
       "4          0  2000"
      ]
     },
     "execution_count": 37,
     "metadata": {},
     "output_type": "execute_result"
    }
   ],
   "source": [
    "data = data.iloc[:,7:9]\n",
    "data.head()"
   ]
  },
  {
   "cell_type": "code",
   "execution_count": 38,
   "id": "15d9aceb",
   "metadata": {},
   "outputs": [
    {
     "name": "stdout",
     "output_type": "stream",
     "text": [
      "<class 'pandas.core.frame.DataFrame'>\n",
      "RangeIndex: 1436 entries, 0 to 1435\n",
      "Data columns (total 2 columns):\n",
      " #   Column     Non-Null Count  Dtype\n",
      "---  ------     --------------  -----\n",
      " 0   Automatic  1436 non-null   int64\n",
      " 1   CC         1436 non-null   int64\n",
      "dtypes: int64(2)\n",
      "memory usage: 22.6 KB\n"
     ]
    }
   ],
   "source": [
    "data.info()"
   ]
  },
  {
   "cell_type": "code",
   "execution_count": 39,
   "id": "95e89cad",
   "metadata": {},
   "outputs": [
    {
     "data": {
      "text/html": [
       "<div>\n",
       "<style scoped>\n",
       "    .dataframe tbody tr th:only-of-type {\n",
       "        vertical-align: middle;\n",
       "    }\n",
       "\n",
       "    .dataframe tbody tr th {\n",
       "        vertical-align: top;\n",
       "    }\n",
       "\n",
       "    .dataframe thead th {\n",
       "        text-align: right;\n",
       "    }\n",
       "</style>\n",
       "<table border=\"1\" class=\"dataframe\">\n",
       "  <thead>\n",
       "    <tr style=\"text-align: right;\">\n",
       "      <th></th>\n",
       "      <th>Automatic</th>\n",
       "      <th>CC</th>\n",
       "    </tr>\n",
       "  </thead>\n",
       "  <tbody>\n",
       "    <tr>\n",
       "      <th>Automatic</th>\n",
       "      <td>1.000000</td>\n",
       "      <td>-0.069321</td>\n",
       "    </tr>\n",
       "    <tr>\n",
       "      <th>CC</th>\n",
       "      <td>-0.069321</td>\n",
       "      <td>1.000000</td>\n",
       "    </tr>\n",
       "  </tbody>\n",
       "</table>\n",
       "</div>"
      ],
      "text/plain": [
       "           Automatic        CC\n",
       "Automatic   1.000000 -0.069321\n",
       "CC         -0.069321  1.000000"
      ]
     },
     "execution_count": 39,
     "metadata": {},
     "output_type": "execute_result"
    }
   ],
   "source": [
    "corr = data.corr()\n",
    "corr.head()"
   ]
  },
  {
   "cell_type": "code",
   "execution_count": 40,
   "id": "e27367a1",
   "metadata": {},
   "outputs": [
    {
     "data": {
      "text/plain": [
       "<AxesSubplot:>"
      ]
     },
     "execution_count": 40,
     "metadata": {},
     "output_type": "execute_result"
    },
    {
     "data": {
      "image/png": "[encoded data removed]",
      "text/plain": [
       "<Figure size 432x288 with 2 Axes>"
      ]
     },
     "metadata": {
      "needs_background": "light"
     },
     "output_type": "display_data"
    }
   ],
   "source": [
    "sns.heatmap(corr)"
   ]
  },
  {
   "cell_type": "code",
   "execution_count": 41,
   "id": "71c10999",
   "metadata": {},
   "outputs": [],
   "source": [
    "columns = np.full((corr.shape[0],), True, dtype=bool)\n",
    "for i in range(corr.shape[0]):\n",
    "    for j in range(i+1, corr.shape[0]):\n",
    "        if corr.iloc[i,j] >= 0.9:\n",
    "            if columns[j]:\n",
    "                columns[j] = False"
   ]
  },
  {
   "cell_type": "code",
   "execution_count": 42,
   "id": "2ac7e5b4",
   "metadata": {},
   "outputs": [
    {
     "data": {
      "text/plain": [
       "(2,)"
      ]
     },
     "execution_count": 42,
     "metadata": {},
     "output_type": "execute_result"
    }
   ],
   "source": [
    "selected_columns = data.columns[columns]\n",
    "selected_columns.shape"
   ]
  },
  {
   "cell_type": "code",
   "execution_count": 43,
   "id": "6b909fd5",
   "metadata": {},
   "outputs": [
    {
     "name": "stdout",
     "output_type": "stream",
     "text": [
      "      Automatic    CC\n",
      "0             0  2000\n",
      "1             0  2000\n",
      "2             0  2000\n",
      "3             0  2000\n",
      "4             0  2000\n",
      "...         ...   ...\n",
      "1431          0  1300\n",
      "1432          0  1300\n",
      "1433          0  1300\n",
      "1434          0  1300\n",
      "1435          0  1600\n",
      "\n",
      "[1436 rows x 2 columns]\n"
     ]
    }
   ],
   "source": [
    "data = data[selected_columns]\n",
    "print(data)"
   ]
  }
 ],
 "metadata": {
  "kernelspec": {
   "display_name": "Python 3",
   "language": "python",
   "name": "python3"
  },
  "language_info": {
   "codemirror_mode": {
    "name": "ipython",
    "version": 3
   },
   "file_extension": ".py",
   "mimetype": "text/x-python",
   "name": "python",
   "nbconvert_exporter": "python",
   "pygments_lexer": "ipython3",
   "version": "3.8.3"
  }
 },
 "nbformat": 4,
 "nbformat_minor": 5
}
